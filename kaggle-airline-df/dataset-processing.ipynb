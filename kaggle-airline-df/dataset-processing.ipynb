{
 "cells": [
  {
   "cell_type": "markdown",
   "source": [
    "\n",
    "![airline_delays](https://miro.medium.com/max/1180/1*7pKBn-RXnqvrl-joQgMwZw.jpeg)\n",
    "\n",
    "# Airline Delays\n",
    "**Dataset Case Study**\n",
    "The data used will be taken from Kaggle's datasets **Airlines Delay** found at [Kaggle](https://www.kaggle.com/giovamata/airlinedelaycauses) by [Giovanni Gonzalez](https://www.kaggle.com/giovamata)"
   ],
   "metadata": {
    "collapsed": false,
    "pycharm": {
     "name": "#%% md\n"
    }
   }
  },
  {
   "cell_type": "markdown",
   "source": [
    "# 1. Data preparation\n",
    "In order to analyze the data, the dataset first has to be processed, cleaned and polished."
   ],
   "metadata": {
    "collapsed": false,
    "pycharm": {
     "name": "#%% md\n"
    }
   }
  },
  {
   "cell_type": "markdown",
   "source": [
    "## 1.1. Imports\n",
    "Python libraries"
   ],
   "metadata": {
    "collapsed": false,
    "pycharm": {
     "name": "#%% md\n"
    }
   }
  },
  {
   "cell_type": "code",
   "execution_count": 106,
   "outputs": [
    {
     "data": {
      "text/plain": "'/home/noone/data-exercises/kaggle-airline-df'"
     },
     "execution_count": 106,
     "metadata": {},
     "output_type": "execute_result"
    }
   ],
   "source": [
    "import pandas as pd\n",
    "import os\n",
    "!pip install kaggle --upgrade --quiet\n",
    "import seaborn as sns\n",
    "sns.set_theme(style=\"darkgrid\")\n",
    "os.getcwd()"
   ],
   "metadata": {
    "collapsed": false,
    "pycharm": {
     "name": "#%%\n"
    }
   }
  },
  {
   "cell_type": "markdown",
   "source": [
    "## 1.2. Project folder structure\n",
    "Let's do a simple folder structure in order to organize all the working data.\n",
    "\n",
    "| root\n",
    "|--- kaggle-airline-df\n",
    "|---|--- input"
   ],
   "metadata": {
    "collapsed": false,
    "pycharm": {
     "name": "#%% md\n"
    }
   }
  },
  {
   "cell_type": "code",
   "execution_count": 11,
   "outputs": [],
   "source": [
    "# Prepare directories\n",
    "root = os.getcwd()\n",
    "\n",
    "# Change working directory\n",
    "if \"kaggle-airline-df\" in root:\n",
    "    wd_dir = root\n",
    "else:\n",
    "    wd_dir = os.path.join(root,\"kaggle-airline-df\")\n",
    "    os.mkdir(wd_dir)\n",
    "    os.chdir(wd_dir)"
   ],
   "metadata": {
    "collapsed": false,
    "pycharm": {
     "name": "#%%\n"
    }
   }
  },
  {
   "cell_type": "markdown",
   "source": [
    "## 1.3. Download the dataset\n",
    "Using Kaggle's API, download the entire dataset"
   ],
   "metadata": {
    "collapsed": false,
    "pycharm": {
     "name": "#%% md\n"
    }
   }
  },
  {
   "cell_type": "code",
   "execution_count": 12,
   "outputs": [],
   "source": [
    "# Download the dataset using Kaggle's API\n",
    "dataset_dir = os.path.join(wd_dir,\"input\")\n",
    "\n",
    "if not os.path.isdir(dataset_dir):\n",
    "    os.mkdir(dataset_dir)\n",
    "    os.chdir(dataset_dir)\n",
    "    !kaggle datasets download giovamata/airlinedelaycauses\n",
    "    !unzip airlinedelaycauses.zip\n",
    "    !rm airlinedelaycauses.zip\n",
    "\n",
    "# Return to the main directory\n",
    "os.chdir(wd_dir)"
   ],
   "metadata": {
    "collapsed": false,
    "pycharm": {
     "name": "#%%\n"
    }
   }
  },
  {
   "cell_type": "markdown",
   "source": [
    "# 2. Dataset\n",
    "Load the dataset to perform exploration, cleaning, rearranging and imputation."
   ],
   "metadata": {
    "collapsed": false,
    "pycharm": {
     "name": "#%% md\n"
    }
   }
  },
  {
   "cell_type": "markdown",
   "source": [
    "## 2.1. Loading the dataset\n",
    "Previewing the dataset and then loading it full"
   ],
   "metadata": {
    "collapsed": false,
    "pycharm": {
     "name": "#%% md\n"
    }
   }
  },
  {
   "cell_type": "code",
   "execution_count": 13,
   "outputs": [
    {
     "name": "stdout",
     "output_type": "stream",
     "text": [
      "['Unnamed: 0', 'Year', 'Month', 'DayofMonth', 'DayOfWeek', 'DepTime', 'CRSDepTime', 'ArrTime', 'CRSArrTime', 'UniqueCarrier', 'FlightNum', 'TailNum', 'ActualElapsedTime', 'CRSElapsedTime', 'AirTime', 'ArrDelay', 'DepDelay', 'Origin', 'Dest', 'Distance', 'TaxiIn', 'TaxiOut', 'Cancelled', 'CancellationCode', 'Diverted', 'CarrierDelay', 'WeatherDelay', 'NASDelay', 'SecurityDelay', 'LateAircraftDelay']\n"
     ]
    }
   ],
   "source": [
    "# Load only the column names from the CSV file\n",
    "file_name = \"input/DelayedFlights.csv\"\n",
    "col_names = pd.read_csv(file_name, nrows=1).columns.tolist()\n",
    "print(col_names)"
   ],
   "metadata": {
    "collapsed": false,
    "pycharm": {
     "name": "#%%\n"
    }
   }
  },
  {
   "cell_type": "code",
   "execution_count": 14,
   "outputs": [],
   "source": [
    "# Let's list the undesired columns\n",
    "undesired_cols_indices = [\"CancellationCode\"]\n",
    "# Remove them from the col_names\n",
    "dummy = [col_names.remove(undesired) for undesired in undesired_cols_indices]"
   ],
   "metadata": {
    "collapsed": false,
    "pycharm": {
     "name": "#%%\n"
    }
   }
  },
  {
   "cell_type": "code",
   "execution_count": 89,
   "outputs": [
    {
     "data": {
      "text/plain": "   Year  Month  DayofMonth  DayOfWeek  DepTime  CRSDepTime  ArrTime  \\\n0  2008      1           3          4   2003.0        1955   2211.0   \n1  2008      1           3          4    754.0         735   1002.0   \n2  2008      1           3          4    628.0         620    804.0   \n4  2008      1           3          4   1829.0        1755   1959.0   \n5  2008      1           3          4   1940.0        1915   2121.0   \n\n   CRSArrTime UniqueCarrier  FlightNum  ... Distance  TaxiIn  TaxiOut  \\\n0        2225            WN        335  ...      810     4.0      8.0   \n1        1000            WN       3231  ...      810     5.0     10.0   \n2         750            WN        448  ...      515     3.0     17.0   \n4        1925            WN       3920  ...      515     3.0     10.0   \n5        2110            WN        378  ...      688     4.0     10.0   \n\n   Cancelled  Diverted  CarrierDelay WeatherDelay NASDelay  SecurityDelay  \\\n0          0         0           NaN          NaN      NaN            NaN   \n1          0         0           NaN          NaN      NaN            NaN   \n2          0         0           NaN          NaN      NaN            NaN   \n4          0         0           2.0          0.0      0.0            0.0   \n5          0         0           NaN          NaN      NaN            NaN   \n\n   LateAircraftDelay  \n0                NaN  \n1                NaN  \n2                NaN  \n4               32.0  \n5                NaN  \n\n[5 rows x 28 columns]",
      "text/html": "<div>\n<style scoped>\n    .dataframe tbody tr th:only-of-type {\n        vertical-align: middle;\n    }\n\n    .dataframe tbody tr th {\n        vertical-align: top;\n    }\n\n    .dataframe thead th {\n        text-align: right;\n    }\n</style>\n<table border=\"1\" class=\"dataframe\">\n  <thead>\n    <tr style=\"text-align: right;\">\n      <th></th>\n      <th>Year</th>\n      <th>Month</th>\n      <th>DayofMonth</th>\n      <th>DayOfWeek</th>\n      <th>DepTime</th>\n      <th>CRSDepTime</th>\n      <th>ArrTime</th>\n      <th>CRSArrTime</th>\n      <th>UniqueCarrier</th>\n      <th>FlightNum</th>\n      <th>...</th>\n      <th>Distance</th>\n      <th>TaxiIn</th>\n      <th>TaxiOut</th>\n      <th>Cancelled</th>\n      <th>Diverted</th>\n      <th>CarrierDelay</th>\n      <th>WeatherDelay</th>\n      <th>NASDelay</th>\n      <th>SecurityDelay</th>\n      <th>LateAircraftDelay</th>\n    </tr>\n  </thead>\n  <tbody>\n    <tr>\n      <th>0</th>\n      <td>2008</td>\n      <td>1</td>\n      <td>3</td>\n      <td>4</td>\n      <td>2003.0</td>\n      <td>1955</td>\n      <td>2211.0</td>\n      <td>2225</td>\n      <td>WN</td>\n      <td>335</td>\n      <td>...</td>\n      <td>810</td>\n      <td>4.0</td>\n      <td>8.0</td>\n      <td>0</td>\n      <td>0</td>\n      <td>NaN</td>\n      <td>NaN</td>\n      <td>NaN</td>\n      <td>NaN</td>\n      <td>NaN</td>\n    </tr>\n    <tr>\n      <th>1</th>\n      <td>2008</td>\n      <td>1</td>\n      <td>3</td>\n      <td>4</td>\n      <td>754.0</td>\n      <td>735</td>\n      <td>1002.0</td>\n      <td>1000</td>\n      <td>WN</td>\n      <td>3231</td>\n      <td>...</td>\n      <td>810</td>\n      <td>5.0</td>\n      <td>10.0</td>\n      <td>0</td>\n      <td>0</td>\n      <td>NaN</td>\n      <td>NaN</td>\n      <td>NaN</td>\n      <td>NaN</td>\n      <td>NaN</td>\n    </tr>\n    <tr>\n      <th>2</th>\n      <td>2008</td>\n      <td>1</td>\n      <td>3</td>\n      <td>4</td>\n      <td>628.0</td>\n      <td>620</td>\n      <td>804.0</td>\n      <td>750</td>\n      <td>WN</td>\n      <td>448</td>\n      <td>...</td>\n      <td>515</td>\n      <td>3.0</td>\n      <td>17.0</td>\n      <td>0</td>\n      <td>0</td>\n      <td>NaN</td>\n      <td>NaN</td>\n      <td>NaN</td>\n      <td>NaN</td>\n      <td>NaN</td>\n    </tr>\n    <tr>\n      <th>4</th>\n      <td>2008</td>\n      <td>1</td>\n      <td>3</td>\n      <td>4</td>\n      <td>1829.0</td>\n      <td>1755</td>\n      <td>1959.0</td>\n      <td>1925</td>\n      <td>WN</td>\n      <td>3920</td>\n      <td>...</td>\n      <td>515</td>\n      <td>3.0</td>\n      <td>10.0</td>\n      <td>0</td>\n      <td>0</td>\n      <td>2.0</td>\n      <td>0.0</td>\n      <td>0.0</td>\n      <td>0.0</td>\n      <td>32.0</td>\n    </tr>\n    <tr>\n      <th>5</th>\n      <td>2008</td>\n      <td>1</td>\n      <td>3</td>\n      <td>4</td>\n      <td>1940.0</td>\n      <td>1915</td>\n      <td>2121.0</td>\n      <td>2110</td>\n      <td>WN</td>\n      <td>378</td>\n      <td>...</td>\n      <td>688</td>\n      <td>4.0</td>\n      <td>10.0</td>\n      <td>0</td>\n      <td>0</td>\n      <td>NaN</td>\n      <td>NaN</td>\n      <td>NaN</td>\n      <td>NaN</td>\n      <td>NaN</td>\n    </tr>\n  </tbody>\n</table>\n<p>5 rows × 28 columns</p>\n</div>"
     },
     "execution_count": 89,
     "metadata": {},
     "output_type": "execute_result"
    }
   ],
   "source": [
    "# Now load the CSV data file with only the desired data, using the first column as index.\n",
    "# The index usually does not have any name, maybe because of that the shown name is \"Unnamed:0\"\n",
    "df = pd.read_csv(file_name, usecols=col_names, index_col=0)\n",
    "# Let's take a look\n",
    "df.head()"
   ],
   "metadata": {
    "collapsed": false,
    "pycharm": {
     "name": "#%%\n"
    }
   }
  },
  {
   "cell_type": "markdown",
   "source": [
    "## 2.2. Cleaning\n",
    "Fix data types and dates"
   ],
   "metadata": {
    "collapsed": false,
    "pycharm": {
     "name": "#%% md\n"
    }
   }
  },
  {
   "cell_type": "code",
   "execution_count": 81,
   "outputs": [
    {
     "name": "stdout",
     "output_type": "stream",
     "text": [
      "<class 'pandas.core.frame.DataFrame'>\n",
      "Int64Index: 1936758 entries, 0 to 7009727\n",
      "Data columns (total 28 columns):\n",
      " #   Column             Dtype  \n",
      "---  ------             -----  \n",
      " 0   Year               int64  \n",
      " 1   Month              int64  \n",
      " 2   DayofMonth         int64  \n",
      " 3   DayOfWeek          int64  \n",
      " 4   DepTime            float64\n",
      " 5   CRSDepTime         int64  \n",
      " 6   ArrTime            float64\n",
      " 7   CRSArrTime         int64  \n",
      " 8   UniqueCarrier      object \n",
      " 9   FlightNum          int64  \n",
      " 10  TailNum            object \n",
      " 11  ActualElapsedTime  float64\n",
      " 12  CRSElapsedTime     float64\n",
      " 13  AirTime            float64\n",
      " 14  ArrDelay           float64\n",
      " 15  DepDelay           float64\n",
      " 16  Origin             object \n",
      " 17  Dest               object \n",
      " 18  Distance           int64  \n",
      " 19  TaxiIn             float64\n",
      " 20  TaxiOut            float64\n",
      " 21  Cancelled          int64  \n",
      " 22  Diverted           int64  \n",
      " 23  CarrierDelay       float64\n",
      " 24  WeatherDelay       float64\n",
      " 25  NASDelay           float64\n",
      " 26  SecurityDelay      float64\n",
      " 27  LateAircraftDelay  float64\n",
      "dtypes: float64(14), int64(10), object(4)\n",
      "memory usage: 428.5+ MB\n"
     ]
    }
   ],
   "source": [
    "# Let's check the actual datatypes associated to each variable\n",
    "df.info()"
   ],
   "metadata": {
    "collapsed": false,
    "pycharm": {
     "name": "#%%\n"
    }
   }
  },
  {
   "cell_type": "code",
   "execution_count": 96,
   "outputs": [
    {
     "name": "stdout",
     "output_type": "stream",
     "text": [
      "There are 3486389 NaNs\n"
     ]
    }
   ],
   "source": [
    "# Are there NaNs?\n",
    "nans = df.isna().sum().sum()\n",
    "print(f'There are {nans} NaNs')"
   ],
   "metadata": {
    "collapsed": false,
    "pycharm": {
     "name": "#%%\n"
    }
   }
  },
  {
   "cell_type": "code",
   "execution_count": 98,
   "outputs": [],
   "source": [
    "# The NaNs detected are observations of value zero, so let's substitute them with proper 0s\n",
    "df.fillna(value=0,inplace=True)\n",
    "\n",
    "# Now, all the variables in the dataset that are not strings should be represented without decimals.\n",
    "# So they can be converted into integer dtype\n",
    "df = df.select_dtypes(exclude=[object]).astype(\"int\")"
   ],
   "metadata": {
    "collapsed": false,
    "pycharm": {
     "name": "#%%\n"
    }
   }
  },
  {
   "cell_type": "code",
   "execution_count": 99,
   "outputs": [],
   "source": [
    "# The first columns are daily data separated by some non standard rule. Let's convert them into date datatype.\n",
    "convert_dict = {\n",
    "    \"Year\": str,\n",
    "    \"Month\": str,\n",
    "    \"DayofMonth\": str\n",
    "}\n",
    "df = df.astype(convert_dict) # Convert to string\n",
    "\n",
    "df[\"Date\"] = df[\"Year\"] + \"/\" + df[\"Month\"] + \"/\" + df[\"DayofMonth\"]\n",
    "df[\"Date\"] = pd.to_datetime(df[\"Date\"],format=\"%Y/%m/%d\")\n",
    "\n",
    "# Now drop the columns\n",
    "df.drop(columns=[\"Year\",\"Month\",\"DayofMonth\"],inplace=True)"
   ],
   "metadata": {
    "collapsed": false,
    "pycharm": {
     "name": "#%%\n"
    }
   }
  },
  {
   "cell_type": "code",
   "execution_count": 104,
   "outputs": [
    {
     "data": {
      "text/plain": "   DayOfWeek  DepTime  CRSDepTime  ArrTime  CRSArrTime  FlightNum  \\\n0          4     2003        1955     2211        2225        335   \n1          4      754         735     1002        1000       3231   \n2          4      628         620      804         750        448   \n4          4     1829        1755     1959        1925       3920   \n5          4     1940        1915     2121        2110        378   \n\n   ActualElapsedTime  CRSElapsedTime  AirTime  ArrDelay  ...  TaxiIn  TaxiOut  \\\n0                128             150      116       -14  ...       4        8   \n1                128             145      113         2  ...       5       10   \n2                 96              90       76        14  ...       3       17   \n4                 90              90       77        34  ...       3       10   \n5                101             115       87        11  ...       4       10   \n\n   Cancelled  Diverted  CarrierDelay  WeatherDelay  NASDelay  SecurityDelay  \\\n0          0         0             0             0         0              0   \n1          0         0             0             0         0              0   \n2          0         0             0             0         0              0   \n4          0         0             2             0         0              0   \n5          0         0             0             0         0              0   \n\n   LateAircraftDelay       Date  \n0                  0 2008-01-03  \n1                  0 2008-01-03  \n2                  0 2008-01-03  \n4                 32 2008-01-03  \n5                  0 2008-01-03  \n\n[5 rows x 22 columns]",
      "text/html": "<div>\n<style scoped>\n    .dataframe tbody tr th:only-of-type {\n        vertical-align: middle;\n    }\n\n    .dataframe tbody tr th {\n        vertical-align: top;\n    }\n\n    .dataframe thead th {\n        text-align: right;\n    }\n</style>\n<table border=\"1\" class=\"dataframe\">\n  <thead>\n    <tr style=\"text-align: right;\">\n      <th></th>\n      <th>DayOfWeek</th>\n      <th>DepTime</th>\n      <th>CRSDepTime</th>\n      <th>ArrTime</th>\n      <th>CRSArrTime</th>\n      <th>FlightNum</th>\n      <th>ActualElapsedTime</th>\n      <th>CRSElapsedTime</th>\n      <th>AirTime</th>\n      <th>ArrDelay</th>\n      <th>...</th>\n      <th>TaxiIn</th>\n      <th>TaxiOut</th>\n      <th>Cancelled</th>\n      <th>Diverted</th>\n      <th>CarrierDelay</th>\n      <th>WeatherDelay</th>\n      <th>NASDelay</th>\n      <th>SecurityDelay</th>\n      <th>LateAircraftDelay</th>\n      <th>Date</th>\n    </tr>\n  </thead>\n  <tbody>\n    <tr>\n      <th>0</th>\n      <td>4</td>\n      <td>2003</td>\n      <td>1955</td>\n      <td>2211</td>\n      <td>2225</td>\n      <td>335</td>\n      <td>128</td>\n      <td>150</td>\n      <td>116</td>\n      <td>-14</td>\n      <td>...</td>\n      <td>4</td>\n      <td>8</td>\n      <td>0</td>\n      <td>0</td>\n      <td>0</td>\n      <td>0</td>\n      <td>0</td>\n      <td>0</td>\n      <td>0</td>\n      <td>2008-01-03</td>\n    </tr>\n    <tr>\n      <th>1</th>\n      <td>4</td>\n      <td>754</td>\n      <td>735</td>\n      <td>1002</td>\n      <td>1000</td>\n      <td>3231</td>\n      <td>128</td>\n      <td>145</td>\n      <td>113</td>\n      <td>2</td>\n      <td>...</td>\n      <td>5</td>\n      <td>10</td>\n      <td>0</td>\n      <td>0</td>\n      <td>0</td>\n      <td>0</td>\n      <td>0</td>\n      <td>0</td>\n      <td>0</td>\n      <td>2008-01-03</td>\n    </tr>\n    <tr>\n      <th>2</th>\n      <td>4</td>\n      <td>628</td>\n      <td>620</td>\n      <td>804</td>\n      <td>750</td>\n      <td>448</td>\n      <td>96</td>\n      <td>90</td>\n      <td>76</td>\n      <td>14</td>\n      <td>...</td>\n      <td>3</td>\n      <td>17</td>\n      <td>0</td>\n      <td>0</td>\n      <td>0</td>\n      <td>0</td>\n      <td>0</td>\n      <td>0</td>\n      <td>0</td>\n      <td>2008-01-03</td>\n    </tr>\n    <tr>\n      <th>4</th>\n      <td>4</td>\n      <td>1829</td>\n      <td>1755</td>\n      <td>1959</td>\n      <td>1925</td>\n      <td>3920</td>\n      <td>90</td>\n      <td>90</td>\n      <td>77</td>\n      <td>34</td>\n      <td>...</td>\n      <td>3</td>\n      <td>10</td>\n      <td>0</td>\n      <td>0</td>\n      <td>2</td>\n      <td>0</td>\n      <td>0</td>\n      <td>0</td>\n      <td>32</td>\n      <td>2008-01-03</td>\n    </tr>\n    <tr>\n      <th>5</th>\n      <td>4</td>\n      <td>1940</td>\n      <td>1915</td>\n      <td>2121</td>\n      <td>2110</td>\n      <td>378</td>\n      <td>101</td>\n      <td>115</td>\n      <td>87</td>\n      <td>11</td>\n      <td>...</td>\n      <td>4</td>\n      <td>10</td>\n      <td>0</td>\n      <td>0</td>\n      <td>0</td>\n      <td>0</td>\n      <td>0</td>\n      <td>0</td>\n      <td>0</td>\n      <td>2008-01-03</td>\n    </tr>\n  </tbody>\n</table>\n<p>5 rows × 22 columns</p>\n</div>"
     },
     "execution_count": 104,
     "metadata": {},
     "output_type": "execute_result"
    }
   ],
   "source": [
    "df.head()"
   ],
   "metadata": {
    "collapsed": false,
    "pycharm": {
     "name": "#%%\n"
    }
   }
  },
  {
   "cell_type": "code",
   "execution_count": 107,
   "outputs": [
    {
     "data": {
      "text/plain": "<AxesSubplot:xlabel='Date', ylabel='ArrDelay'>"
     },
     "execution_count": 107,
     "metadata": {},
     "output_type": "execute_result"
    },
    {
     "data": {
      "text/plain": "<Figure size 432x288 with 1 Axes>",
      "image/png": "[encoded data removed]"
     },
     "metadata": {},
     "output_type": "display_data"
    }
   ],
   "source": [
    "sns.lineplot(x=\"Date\",y=\"ArrDelay\",data=df)"
   ],
   "metadata": {
    "collapsed": false,
    "pycharm": {
     "name": "#%%\n"
    }
   }
  },
  {
   "cell_type": "code",
   "execution_count": 110,
   "outputs": [],
   "source": [
    "df.to_csv(\"data-clean.csv\", index=False)"
   ],
   "metadata": {
    "collapsed": false,
    "pycharm": {
     "name": "#%%\n"
    }
   }
  },
  {
   "cell_type": "code",
   "execution_count": 111,
   "outputs": [
    {
     "data": {
      "text/plain": "   DayOfWeek  DepTime  CRSDepTime  ArrTime  CRSArrTime  FlightNum  \\\n0          4     2003        1955     2211        2225        335   \n1          4      754         735     1002        1000       3231   \n2          4      628         620      804         750        448   \n3          4     1829        1755     1959        1925       3920   \n4          4     1940        1915     2121        2110        378   \n\n   ActualElapsedTime  CRSElapsedTime  AirTime  ArrDelay  ...  TaxiIn  TaxiOut  \\\n0                128             150      116       -14  ...       4        8   \n1                128             145      113         2  ...       5       10   \n2                 96              90       76        14  ...       3       17   \n3                 90              90       77        34  ...       3       10   \n4                101             115       87        11  ...       4       10   \n\n   Cancelled  Diverted  CarrierDelay  WeatherDelay  NASDelay  SecurityDelay  \\\n0          0         0             0             0         0              0   \n1          0         0             0             0         0              0   \n2          0         0             0             0         0              0   \n3          0         0             2             0         0              0   \n4          0         0             0             0         0              0   \n\n   LateAircraftDelay        Date  \n0                  0  2008-01-03  \n1                  0  2008-01-03  \n2                  0  2008-01-03  \n3                 32  2008-01-03  \n4                  0  2008-01-03  \n\n[5 rows x 22 columns]",
      "text/html": "<div>\n<style scoped>\n    .dataframe tbody tr th:only-of-type {\n        vertical-align: middle;\n    }\n\n    .dataframe tbody tr th {\n        vertical-align: top;\n    }\n\n    .dataframe thead th {\n        text-align: right;\n    }\n</style>\n<table border=\"1\" class=\"dataframe\">\n  <thead>\n    <tr style=\"text-align: right;\">\n      <th></th>\n      <th>DayOfWeek</th>\n      <th>DepTime</th>\n      <th>CRSDepTime</th>\n      <th>ArrTime</th>\n      <th>CRSArrTime</th>\n      <th>FlightNum</th>\n      <th>ActualElapsedTime</th>\n      <th>CRSElapsedTime</th>\n      <th>AirTime</th>\n      <th>ArrDelay</th>\n      <th>...</th>\n      <th>TaxiIn</th>\n      <th>TaxiOut</th>\n      <th>Cancelled</th>\n      <th>Diverted</th>\n      <th>CarrierDelay</th>\n      <th>WeatherDelay</th>\n      <th>NASDelay</th>\n      <th>SecurityDelay</th>\n      <th>LateAircraftDelay</th>\n      <th>Date</th>\n    </tr>\n  </thead>\n  <tbody>\n    <tr>\n      <th>0</th>\n      <td>4</td>\n      <td>2003</td>\n      <td>1955</td>\n      <td>2211</td>\n      <td>2225</td>\n      <td>335</td>\n      <td>128</td>\n      <td>150</td>\n      <td>116</td>\n      <td>-14</td>\n      <td>...</td>\n      <td>4</td>\n      <td>8</td>\n      <td>0</td>\n      <td>0</td>\n      <td>0</td>\n      <td>0</td>\n      <td>0</td>\n      <td>0</td>\n      <td>0</td>\n      <td>2008-01-03</td>\n    </tr>\n    <tr>\n      <th>1</th>\n      <td>4</td>\n      <td>754</td>\n      <td>735</td>\n      <td>1002</td>\n      <td>1000</td>\n      <td>3231</td>\n      <td>128</td>\n      <td>145</td>\n      <td>113</td>\n      <td>2</td>\n      <td>...</td>\n      <td>5</td>\n      <td>10</td>\n      <td>0</td>\n      <td>0</td>\n      <td>0</td>\n      <td>0</td>\n      <td>0</td>\n      <td>0</td>\n      <td>0</td>\n      <td>2008-01-03</td>\n    </tr>\n    <tr>\n      <th>2</th>\n      <td>4</td>\n      <td>628</td>\n      <td>620</td>\n      <td>804</td>\n      <td>750</td>\n      <td>448</td>\n      <td>96</td>\n      <td>90</td>\n      <td>76</td>\n      <td>14</td>\n      <td>...</td>\n      <td>3</td>\n      <td>17</td>\n      <td>0</td>\n      <td>0</td>\n      <td>0</td>\n      <td>0</td>\n      <td>0</td>\n      <td>0</td>\n      <td>0</td>\n      <td>2008-01-03</td>\n    </tr>\n    <tr>\n      <th>3</th>\n      <td>4</td>\n      <td>1829</td>\n      <td>1755</td>\n      <td>1959</td>\n      <td>1925</td>\n      <td>3920</td>\n      <td>90</td>\n      <td>90</td>\n      <td>77</td>\n      <td>34</td>\n      <td>...</td>\n      <td>3</td>\n      <td>10</td>\n      <td>0</td>\n      <td>0</td>\n      <td>2</td>\n      <td>0</td>\n      <td>0</td>\n      <td>0</td>\n      <td>32</td>\n      <td>2008-01-03</td>\n    </tr>\n    <tr>\n      <th>4</th>\n      <td>4</td>\n      <td>1940</td>\n      <td>1915</td>\n      <td>2121</td>\n      <td>2110</td>\n      <td>378</td>\n      <td>101</td>\n      <td>115</td>\n      <td>87</td>\n      <td>11</td>\n      <td>...</td>\n      <td>4</td>\n      <td>10</td>\n      <td>0</td>\n      <td>0</td>\n      <td>0</td>\n      <td>0</td>\n      <td>0</td>\n      <td>0</td>\n      <td>0</td>\n      <td>2008-01-03</td>\n    </tr>\n  </tbody>\n</table>\n<p>5 rows × 22 columns</p>\n</div>"
     },
     "execution_count": 111,
     "metadata": {},
     "output_type": "execute_result"
    }
   ],
   "source": [
    "df2 = pd.read_csv(\"data-clean.csv\")\n",
    "df2.head()"
   ],
   "metadata": {
    "collapsed": false,
    "pycharm": {
     "name": "#%%\n"
    }
   }
  },
  {
   "cell_type": "code",
   "execution_count": null,
   "outputs": [],
   "source": [],
   "metadata": {
    "collapsed": false,
    "pycharm": {
     "name": "#%%\n"
    }
   }
  }
 ],
 "metadata": {
  "kernelspec": {
   "display_name": "Python 3",
   "language": "python",
   "name": "python3"
  },
  "language_info": {
   "codemirror_mode": {
    "name": "ipython",
    "version": 2
   },
   "file_extension": ".py",
   "mimetype": "text/x-python",
   "name": "python",
   "nbconvert_exporter": "python",
   "pygments_lexer": "ipython2",
   "version": "2.7.6"
  }
 },
 "nbformat": 4,
 "nbformat_minor": 0
}