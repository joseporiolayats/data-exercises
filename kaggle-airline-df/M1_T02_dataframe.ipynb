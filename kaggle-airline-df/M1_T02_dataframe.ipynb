{
 "cells": [
  {
   "cell_type": "code",
   "execution_count": 2,
   "outputs": [],
   "source": [
    "import numpy as np\n",
    "import pandas as pd\n",
    "import os\n",
    "import datetime\n",
    "!pip install kaggle --upgrade --quiet"
   ],
   "metadata": {
    "collapsed": false,
    "pycharm": {
     "name": "#%%\n"
    }
   }
  },
  {
   "cell_type": "markdown",
   "source": [
    "# M1 T02: Data exploration and structure - Dataframes with Pandas\n",
    "Description\n",
    "\n",
    "Familiarize yourself with data exploration techniques using the data structure, Dataframe with the Pandas library. Level 1\n",
    "\n",
    "The data used will be taken from Kaggle's datasets **Airlines Delay** found at [Kaggle](https://www.kaggle.com/giovamata/airlinedelaycauses) by [Giovanni Gonzalez](https://www.kaggle.com/giovamata)"
   ],
   "metadata": {
    "collapsed": false
   }
  },
  {
   "cell_type": "markdown",
   "source": [
    "## - Exercise 1\n",
    "Download the Airlines Delay: Airline on-time statistics and delay causes data set and upload it to a Dataframe pandas. Explore the data it contains, and keep only the columns you consider relevant."
   ],
   "metadata": {
    "collapsed": false,
    "pycharm": {
     "name": "#%% md\n"
    }
   }
  },
  {
   "cell_type": "code",
   "execution_count": 3,
   "outputs": [
    {
     "name": "stdout",
     "output_type": "stream",
     "text": [
      "Warning: Your Kaggle API key is readable by other users on this system! To fix this, you can run 'chmod 600 /home/noone/.kaggle/kaggle.json'\r\n",
      "Downloading airlinedelaycauses.zip to /home/noone/data-exercises/kaggle-airline-df/kaggle-airline-df/input\r\n",
      " 98%|█████████████████████████████████████ | 65.0M/66.6M [00:03<00:00, 25.4MB/s]\r\n",
      "100%|██████████████████████████████████████| 66.6M/66.6M [00:03<00:00, 20.7MB/s]\r\n",
      "Archive:  airlinedelaycauses.zip\r\n",
      "  inflating: DelayedFlights.csv      \r\n",
      "  inflating: st99_d00.dbf            \r\n",
      "  inflating: st99_d00.shp            \r\n",
      "  inflating: st99_d00.shx            \r\n"
     ]
    }
   ],
   "source": [
    "# Prepare directories\n",
    "root = os.getcwd()\n",
    "\n",
    "# Change working directory\n",
    "new_wd = \"kaggle-airline-df\"\n",
    "wd_dir = os.path.join(root,new_wd)\n",
    "if not os.path.isdir(wd_dir):\n",
    "    os.mkdir(wd_dir)\n",
    "\n",
    "os.chdir(wd_dir)\n",
    "\n",
    "# Dataset location\n",
    "dataset_dir = os.path.join(wd_dir,\"input\")\n",
    "if not os.path.isdir(dataset_dir):\n",
    "    os.mkdir(dataset_dir)\n",
    "\n",
    "os.chdir(dataset_dir)\n",
    "\n",
    "# Download the dataset using Kaggle's API\n",
    "!kaggle datasets download giovamata/airlinedelaycauses\n",
    "!unzip airlinedelaycauses.zip\n",
    "!rm airlinedelaycauses.zip\n",
    "os.chdir(wd_dir)"
   ],
   "metadata": {
    "collapsed": false,
    "pycharm": {
     "name": "#%%\n"
    }
   }
  },
  {
   "cell_type": "code",
   "execution_count": 4,
   "outputs": [
    {
     "name": "stdout",
     "output_type": "stream",
     "text": [
      "['Unnamed: 0', 'Year', 'Month', 'DayofMonth', 'DayOfWeek', 'DepTime', 'CRSDepTime', 'ArrTime', 'CRSArrTime', 'UniqueCarrier', 'FlightNum', 'TailNum', 'ActualElapsedTime', 'CRSElapsedTime', 'AirTime', 'ArrDelay', 'DepDelay', 'Origin', 'Dest', 'Distance', 'TaxiIn', 'TaxiOut', 'Cancelled', 'CancellationCode', 'Diverted', 'CarrierDelay', 'WeatherDelay', 'NASDelay', 'SecurityDelay', 'LateAircraftDelay']\n"
     ]
    }
   ],
   "source": [
    "# As this is a dataset centered around flight delays, the main purpose is to analyze the timings related to routes, companies, airports, etc.\n",
    "# By reading the column names, there are some that will not be of interest, which will be removed\n",
    "\n",
    "# Load only the column names from the CSV file\n",
    "file_name = \"input/DelayedFlights.csv\"\n",
    "col_names = pd.read_csv(file_name, nrows=1).columns.tolist()\n",
    "print(col_names)"
   ],
   "metadata": {
    "collapsed": false,
    "pycharm": {
     "name": "#%%\n"
    }
   }
  },
  {
   "cell_type": "code",
   "execution_count": 5,
   "outputs": [],
   "source": [
    "# Let's list the undesired columns\n",
    "undesired_cols_indices = [\"Cancelled\", \"CancellationCode\"]\n",
    "# Remove them from the col_names\n",
    "dummy = [col_names.remove(undesired) for undesired in undesired_cols_indices]"
   ],
   "metadata": {
    "collapsed": false,
    "pycharm": {
     "name": "#%%\n"
    }
   }
  },
  {
   "cell_type": "code",
   "execution_count": 6,
   "outputs": [
    {
     "data": {
      "text/plain": "   Year  Month  DayofMonth  DayOfWeek  DepTime  CRSDepTime  ArrTime  \\\n0  2008      1           3          4   2003.0        1955   2211.0   \n1  2008      1           3          4    754.0         735   1002.0   \n2  2008      1           3          4    628.0         620    804.0   \n4  2008      1           3          4   1829.0        1755   1959.0   \n5  2008      1           3          4   1940.0        1915   2121.0   \n\n   CRSArrTime UniqueCarrier  FlightNum  ... Dest  Distance  TaxiIn  TaxiOut  \\\n0        2225            WN        335  ...  TPA       810     4.0      8.0   \n1        1000            WN       3231  ...  TPA       810     5.0     10.0   \n2         750            WN        448  ...  BWI       515     3.0     17.0   \n4        1925            WN       3920  ...  BWI       515     3.0     10.0   \n5        2110            WN        378  ...  JAX       688     4.0     10.0   \n\n   Diverted  CarrierDelay WeatherDelay NASDelay  SecurityDelay  \\\n0         0           NaN          NaN      NaN            NaN   \n1         0           NaN          NaN      NaN            NaN   \n2         0           NaN          NaN      NaN            NaN   \n4         0           2.0          0.0      0.0            0.0   \n5         0           NaN          NaN      NaN            NaN   \n\n   LateAircraftDelay  \n0                NaN  \n1                NaN  \n2                NaN  \n4               32.0  \n5                NaN  \n\n[5 rows x 27 columns]",
      "text/html": "<div>\n<style scoped>\n    .dataframe tbody tr th:only-of-type {\n        vertical-align: middle;\n    }\n\n    .dataframe tbody tr th {\n        vertical-align: top;\n    }\n\n    .dataframe thead th {\n        text-align: right;\n    }\n</style>\n<table border=\"1\" class=\"dataframe\">\n  <thead>\n    <tr style=\"text-align: right;\">\n      <th></th>\n      <th>Year</th>\n      <th>Month</th>\n      <th>DayofMonth</th>\n      <th>DayOfWeek</th>\n      <th>DepTime</th>\n      <th>CRSDepTime</th>\n      <th>ArrTime</th>\n      <th>CRSArrTime</th>\n      <th>UniqueCarrier</th>\n      <th>FlightNum</th>\n      <th>...</th>\n      <th>Dest</th>\n      <th>Distance</th>\n      <th>TaxiIn</th>\n      <th>TaxiOut</th>\n      <th>Diverted</th>\n      <th>CarrierDelay</th>\n      <th>WeatherDelay</th>\n      <th>NASDelay</th>\n      <th>SecurityDelay</th>\n      <th>LateAircraftDelay</th>\n    </tr>\n  </thead>\n  <tbody>\n    <tr>\n      <th>0</th>\n      <td>2008</td>\n      <td>1</td>\n      <td>3</td>\n      <td>4</td>\n      <td>2003.0</td>\n      <td>1955</td>\n      <td>2211.0</td>\n      <td>2225</td>\n      <td>WN</td>\n      <td>335</td>\n      <td>...</td>\n      <td>TPA</td>\n      <td>810</td>\n      <td>4.0</td>\n      <td>8.0</td>\n      <td>0</td>\n      <td>NaN</td>\n      <td>NaN</td>\n      <td>NaN</td>\n      <td>NaN</td>\n      <td>NaN</td>\n    </tr>\n    <tr>\n      <th>1</th>\n      <td>2008</td>\n      <td>1</td>\n      <td>3</td>\n      <td>4</td>\n      <td>754.0</td>\n      <td>735</td>\n      <td>1002.0</td>\n      <td>1000</td>\n      <td>WN</td>\n      <td>3231</td>\n      <td>...</td>\n      <td>TPA</td>\n      <td>810</td>\n      <td>5.0</td>\n      <td>10.0</td>\n      <td>0</td>\n      <td>NaN</td>\n      <td>NaN</td>\n      <td>NaN</td>\n      <td>NaN</td>\n      <td>NaN</td>\n    </tr>\n    <tr>\n      <th>2</th>\n      <td>2008</td>\n      <td>1</td>\n      <td>3</td>\n      <td>4</td>\n      <td>628.0</td>\n      <td>620</td>\n      <td>804.0</td>\n      <td>750</td>\n      <td>WN</td>\n      <td>448</td>\n      <td>...</td>\n      <td>BWI</td>\n      <td>515</td>\n      <td>3.0</td>\n      <td>17.0</td>\n      <td>0</td>\n      <td>NaN</td>\n      <td>NaN</td>\n      <td>NaN</td>\n      <td>NaN</td>\n      <td>NaN</td>\n    </tr>\n    <tr>\n      <th>4</th>\n      <td>2008</td>\n      <td>1</td>\n      <td>3</td>\n      <td>4</td>\n      <td>1829.0</td>\n      <td>1755</td>\n      <td>1959.0</td>\n      <td>1925</td>\n      <td>WN</td>\n      <td>3920</td>\n      <td>...</td>\n      <td>BWI</td>\n      <td>515</td>\n      <td>3.0</td>\n      <td>10.0</td>\n      <td>0</td>\n      <td>2.0</td>\n      <td>0.0</td>\n      <td>0.0</td>\n      <td>0.0</td>\n      <td>32.0</td>\n    </tr>\n    <tr>\n      <th>5</th>\n      <td>2008</td>\n      <td>1</td>\n      <td>3</td>\n      <td>4</td>\n      <td>1940.0</td>\n      <td>1915</td>\n      <td>2121.0</td>\n      <td>2110</td>\n      <td>WN</td>\n      <td>378</td>\n      <td>...</td>\n      <td>JAX</td>\n      <td>688</td>\n      <td>4.0</td>\n      <td>10.0</td>\n      <td>0</td>\n      <td>NaN</td>\n      <td>NaN</td>\n      <td>NaN</td>\n      <td>NaN</td>\n      <td>NaN</td>\n    </tr>\n  </tbody>\n</table>\n<p>5 rows × 27 columns</p>\n</div>"
     },
     "execution_count": 6,
     "metadata": {},
     "output_type": "execute_result"
    }
   ],
   "source": [
    "# Now load the CSV data file with only the desired data, using the first column as index.\n",
    "# The index usually does not have any name, maybe because of that the shown name is \"Unnamed:0\"\n",
    "df = pd.read_csv(file_name, usecols=col_names, index_col=0)\n",
    "# Let's take a look\n",
    "df.head()"
   ],
   "metadata": {
    "collapsed": false,
    "pycharm": {
     "name": "#%%\n"
    }
   }
  },
  {
   "cell_type": "code",
   "execution_count": 7,
   "outputs": [
    {
     "ename": "TypeError",
     "evalue": "'type' object is not subscriptable",
     "output_type": "error",
     "traceback": [
      "\u001B[0;31m---------------------------------------------------------------------------\u001B[0m",
      "\u001B[0;31mTypeError\u001B[0m                                 Traceback (most recent call last)",
      "\u001B[0;32m/tmp/ipykernel_78531/300264188.py\u001B[0m in \u001B[0;36m<module>\u001B[0;34m\u001B[0m\n\u001B[1;32m      4\u001B[0m \u001B[0;34m\u001B[0m\u001B[0m\n\u001B[1;32m      5\u001B[0m \u001B[0;34m\u001B[0m\u001B[0m\n\u001B[0;32m----> 6\u001B[0;31m \u001B[0mpd\u001B[0m\u001B[0;34m.\u001B[0m\u001B[0mto_datetime\u001B[0m\u001B[0;34m(\u001B[0m\u001B[0mstr\u001B[0m\u001B[0;34m[\u001B[0m\u001B[0mdf\u001B[0m\u001B[0;34m[\u001B[0m\u001B[0;34m\"Year\"\u001B[0m\u001B[0;34m]\u001B[0m\u001B[0;34m,\u001B[0m\u001B[0mdf\u001B[0m\u001B[0;34m[\u001B[0m\u001B[0;34m\"Month\"\u001B[0m\u001B[0;34m]\u001B[0m\u001B[0;34m,\u001B[0m\u001B[0mdf\u001B[0m\u001B[0;34m[\u001B[0m\u001B[0;34m'DayofMonth'\u001B[0m\u001B[0;34m]\u001B[0m\u001B[0;34m]\u001B[0m\u001B[0;34m,\u001B[0m\u001B[0mformat\u001B[0m\u001B[0;34m=\u001B[0m\u001B[0;34m'%Y%m%d'\u001B[0m\u001B[0;34m)\u001B[0m\u001B[0;34m\u001B[0m\u001B[0;34m\u001B[0m\u001B[0m\n\u001B[0m",
      "\u001B[0;31mTypeError\u001B[0m: 'type' object is not subscriptable"
     ]
    }
   ],
   "source": [
    "# There is much cleaning to do in order to make it truly usable.\n",
    "# First let's convert the dates to a standard format.#\n",
    "#\n",
    "# pd.to_datetime(str[df[\"Year\"],df[\"Month\"],df['DayofMonth']],format='%Y%m%d')"
   ],
   "metadata": {
    "collapsed": false,
    "pycharm": {
     "name": "#%%\n"
    }
   }
  },
  {
   "cell_type": "code",
   "execution_count": null,
   "outputs": [],
   "source": [
    "df.head()"
   ],
   "metadata": {
    "collapsed": false,
    "pycharm": {
     "name": "#%%\n"
    }
   }
  },
  {
   "cell_type": "markdown",
   "source": [
    "## - Exercise 2\n",
    "Make a complete report of the date set:\n",
    "\n",
    "- Summarize the columns of interest statistically\n",
    "- Find how many missing data are per column\n",
    "- Create new columns (average flight speed, whether late or not ...)\n",
    "- Table of airlines with the most accumulated arrears\n",
    "- What are the longest flights? And the most backward?"
   ],
   "metadata": {
    "collapsed": false,
    "pycharm": {
     "name": "#%% md\n"
    }
   }
  },
  {
   "cell_type": "code",
   "execution_count": 8,
   "outputs": [
    {
     "data": {
      "text/plain": "            Year         Month    DayofMonth     DayOfWeek       DepTime  \\\ncount  1936758.0  1.936758e+06  1.936758e+06  1.936758e+06  1.936758e+06   \nmean      2008.0  6.111106e+00  1.575347e+01  3.984827e+00  1.518534e+03   \nstd          0.0  3.482546e+00  8.776272e+00  1.995966e+00  4.504853e+02   \nmin       2008.0  1.000000e+00  1.000000e+00  1.000000e+00  1.000000e+00   \n25%       2008.0  3.000000e+00  8.000000e+00  2.000000e+00  1.203000e+03   \n50%       2008.0  6.000000e+00  1.600000e+01  4.000000e+00  1.545000e+03   \n75%       2008.0  9.000000e+00  2.300000e+01  6.000000e+00  1.900000e+03   \nmax       2008.0  1.200000e+01  3.100000e+01  7.000000e+00  2.400000e+03   \n\n         CRSDepTime       ArrTime    CRSArrTime     FlightNum  \\\ncount  1.936758e+06  1.929648e+06  1.936758e+06  1.936758e+06   \nmean   1.467473e+03  1.610141e+03  1.634225e+03  2.184263e+03   \nstd    4.247668e+02  5.481781e+02  4.646347e+02  1.944702e+03   \nmin    0.000000e+00  1.000000e+00  0.000000e+00  1.000000e+00   \n25%    1.135000e+03  1.316000e+03  1.325000e+03  6.100000e+02   \n50%    1.510000e+03  1.715000e+03  1.705000e+03  1.543000e+03   \n75%    1.815000e+03  2.030000e+03  2.014000e+03  3.422000e+03   \nmax    2.359000e+03  2.400000e+03  2.400000e+03  9.742000e+03   \n\n       ActualElapsedTime  ...      DepDelay      Distance        TaxiIn  \\\ncount       1.928371e+06  ...  1.936758e+06  1.936758e+06  1.929648e+06   \nmean        1.333059e+02  ...  4.318518e+01  7.656862e+02  6.812975e+00   \nstd         7.206007e+01  ...  5.340250e+01  5.744797e+02  5.273595e+00   \nmin         1.400000e+01  ...  6.000000e+00  1.100000e+01  0.000000e+00   \n25%         8.000000e+01  ...  1.200000e+01  3.380000e+02  4.000000e+00   \n50%         1.160000e+02  ...  2.400000e+01  6.060000e+02  6.000000e+00   \n75%         1.650000e+02  ...  5.300000e+01  9.980000e+02  8.000000e+00   \nmax         1.114000e+03  ...  2.467000e+03  4.962000e+03  2.400000e+02   \n\n            TaxiOut      Diverted  CarrierDelay  WeatherDelay      NASDelay  \\\ncount  1.936303e+06  1.936758e+06  1.247488e+06  1.247488e+06  1.247488e+06   \nmean   1.823220e+01  4.003598e-03  1.917940e+01  3.703571e+00  1.502164e+01   \nstd    1.433853e+01  6.314722e-02  4.354621e+01  2.149290e+01  3.383305e+01   \nmin    0.000000e+00  0.000000e+00  0.000000e+00  0.000000e+00  0.000000e+00   \n25%    1.000000e+01  0.000000e+00  0.000000e+00  0.000000e+00  0.000000e+00   \n50%    1.400000e+01  0.000000e+00  2.000000e+00  0.000000e+00  2.000000e+00   \n75%    2.100000e+01  0.000000e+00  2.100000e+01  0.000000e+00  1.500000e+01   \nmax    4.220000e+02  1.000000e+00  2.436000e+03  1.352000e+03  1.357000e+03   \n\n       SecurityDelay  LateAircraftDelay  \ncount   1.247488e+06       1.247488e+06  \nmean    9.013714e-02       2.529647e+01  \nstd     2.022714e+00       4.205486e+01  \nmin     0.000000e+00       0.000000e+00  \n25%     0.000000e+00       0.000000e+00  \n50%     0.000000e+00       8.000000e+00  \n75%     0.000000e+00       3.300000e+01  \nmax     3.920000e+02       1.316000e+03  \n\n[8 rows x 23 columns]",
      "text/html": "<div>\n<style scoped>\n    .dataframe tbody tr th:only-of-type {\n        vertical-align: middle;\n    }\n\n    .dataframe tbody tr th {\n        vertical-align: top;\n    }\n\n    .dataframe thead th {\n        text-align: right;\n    }\n</style>\n<table border=\"1\" class=\"dataframe\">\n  <thead>\n    <tr style=\"text-align: right;\">\n      <th></th>\n      <th>Year</th>\n      <th>Month</th>\n      <th>DayofMonth</th>\n      <th>DayOfWeek</th>\n      <th>DepTime</th>\n      <th>CRSDepTime</th>\n      <th>ArrTime</th>\n      <th>CRSArrTime</th>\n      <th>FlightNum</th>\n      <th>ActualElapsedTime</th>\n      <th>...</th>\n      <th>DepDelay</th>\n      <th>Distance</th>\n      <th>TaxiIn</th>\n      <th>TaxiOut</th>\n      <th>Diverted</th>\n      <th>CarrierDelay</th>\n      <th>WeatherDelay</th>\n      <th>NASDelay</th>\n      <th>SecurityDelay</th>\n      <th>LateAircraftDelay</th>\n    </tr>\n  </thead>\n  <tbody>\n    <tr>\n      <th>count</th>\n      <td>1936758.0</td>\n      <td>1.936758e+06</td>\n      <td>1.936758e+06</td>\n      <td>1.936758e+06</td>\n      <td>1.936758e+06</td>\n      <td>1.936758e+06</td>\n      <td>1.929648e+06</td>\n      <td>1.936758e+06</td>\n      <td>1.936758e+06</td>\n      <td>1.928371e+06</td>\n      <td>...</td>\n      <td>1.936758e+06</td>\n      <td>1.936758e+06</td>\n      <td>1.929648e+06</td>\n      <td>1.936303e+06</td>\n      <td>1.936758e+06</td>\n      <td>1.247488e+06</td>\n      <td>1.247488e+06</td>\n      <td>1.247488e+06</td>\n      <td>1.247488e+06</td>\n      <td>1.247488e+06</td>\n    </tr>\n    <tr>\n      <th>mean</th>\n      <td>2008.0</td>\n      <td>6.111106e+00</td>\n      <td>1.575347e+01</td>\n      <td>3.984827e+00</td>\n      <td>1.518534e+03</td>\n      <td>1.467473e+03</td>\n      <td>1.610141e+03</td>\n      <td>1.634225e+03</td>\n      <td>2.184263e+03</td>\n      <td>1.333059e+02</td>\n      <td>...</td>\n      <td>4.318518e+01</td>\n      <td>7.656862e+02</td>\n      <td>6.812975e+00</td>\n      <td>1.823220e+01</td>\n      <td>4.003598e-03</td>\n      <td>1.917940e+01</td>\n      <td>3.703571e+00</td>\n      <td>1.502164e+01</td>\n      <td>9.013714e-02</td>\n      <td>2.529647e+01</td>\n    </tr>\n    <tr>\n      <th>std</th>\n      <td>0.0</td>\n      <td>3.482546e+00</td>\n      <td>8.776272e+00</td>\n      <td>1.995966e+00</td>\n      <td>4.504853e+02</td>\n      <td>4.247668e+02</td>\n      <td>5.481781e+02</td>\n      <td>4.646347e+02</td>\n      <td>1.944702e+03</td>\n      <td>7.206007e+01</td>\n      <td>...</td>\n      <td>5.340250e+01</td>\n      <td>5.744797e+02</td>\n      <td>5.273595e+00</td>\n      <td>1.433853e+01</td>\n      <td>6.314722e-02</td>\n      <td>4.354621e+01</td>\n      <td>2.149290e+01</td>\n      <td>3.383305e+01</td>\n      <td>2.022714e+00</td>\n      <td>4.205486e+01</td>\n    </tr>\n    <tr>\n      <th>min</th>\n      <td>2008.0</td>\n      <td>1.000000e+00</td>\n      <td>1.000000e+00</td>\n      <td>1.000000e+00</td>\n      <td>1.000000e+00</td>\n      <td>0.000000e+00</td>\n      <td>1.000000e+00</td>\n      <td>0.000000e+00</td>\n      <td>1.000000e+00</td>\n      <td>1.400000e+01</td>\n      <td>...</td>\n      <td>6.000000e+00</td>\n      <td>1.100000e+01</td>\n      <td>0.000000e+00</td>\n      <td>0.000000e+00</td>\n      <td>0.000000e+00</td>\n      <td>0.000000e+00</td>\n      <td>0.000000e+00</td>\n      <td>0.000000e+00</td>\n      <td>0.000000e+00</td>\n      <td>0.000000e+00</td>\n    </tr>\n    <tr>\n      <th>25%</th>\n      <td>2008.0</td>\n      <td>3.000000e+00</td>\n      <td>8.000000e+00</td>\n      <td>2.000000e+00</td>\n      <td>1.203000e+03</td>\n      <td>1.135000e+03</td>\n      <td>1.316000e+03</td>\n      <td>1.325000e+03</td>\n      <td>6.100000e+02</td>\n      <td>8.000000e+01</td>\n      <td>...</td>\n      <td>1.200000e+01</td>\n      <td>3.380000e+02</td>\n      <td>4.000000e+00</td>\n      <td>1.000000e+01</td>\n      <td>0.000000e+00</td>\n      <td>0.000000e+00</td>\n      <td>0.000000e+00</td>\n      <td>0.000000e+00</td>\n      <td>0.000000e+00</td>\n      <td>0.000000e+00</td>\n    </tr>\n    <tr>\n      <th>50%</th>\n      <td>2008.0</td>\n      <td>6.000000e+00</td>\n      <td>1.600000e+01</td>\n      <td>4.000000e+00</td>\n      <td>1.545000e+03</td>\n      <td>1.510000e+03</td>\n      <td>1.715000e+03</td>\n      <td>1.705000e+03</td>\n      <td>1.543000e+03</td>\n      <td>1.160000e+02</td>\n      <td>...</td>\n      <td>2.400000e+01</td>\n      <td>6.060000e+02</td>\n      <td>6.000000e+00</td>\n      <td>1.400000e+01</td>\n      <td>0.000000e+00</td>\n      <td>2.000000e+00</td>\n      <td>0.000000e+00</td>\n      <td>2.000000e+00</td>\n      <td>0.000000e+00</td>\n      <td>8.000000e+00</td>\n    </tr>\n    <tr>\n      <th>75%</th>\n      <td>2008.0</td>\n      <td>9.000000e+00</td>\n      <td>2.300000e+01</td>\n      <td>6.000000e+00</td>\n      <td>1.900000e+03</td>\n      <td>1.815000e+03</td>\n      <td>2.030000e+03</td>\n      <td>2.014000e+03</td>\n      <td>3.422000e+03</td>\n      <td>1.650000e+02</td>\n      <td>...</td>\n      <td>5.300000e+01</td>\n      <td>9.980000e+02</td>\n      <td>8.000000e+00</td>\n      <td>2.100000e+01</td>\n      <td>0.000000e+00</td>\n      <td>2.100000e+01</td>\n      <td>0.000000e+00</td>\n      <td>1.500000e+01</td>\n      <td>0.000000e+00</td>\n      <td>3.300000e+01</td>\n    </tr>\n    <tr>\n      <th>max</th>\n      <td>2008.0</td>\n      <td>1.200000e+01</td>\n      <td>3.100000e+01</td>\n      <td>7.000000e+00</td>\n      <td>2.400000e+03</td>\n      <td>2.359000e+03</td>\n      <td>2.400000e+03</td>\n      <td>2.400000e+03</td>\n      <td>9.742000e+03</td>\n      <td>1.114000e+03</td>\n      <td>...</td>\n      <td>2.467000e+03</td>\n      <td>4.962000e+03</td>\n      <td>2.400000e+02</td>\n      <td>4.220000e+02</td>\n      <td>1.000000e+00</td>\n      <td>2.436000e+03</td>\n      <td>1.352000e+03</td>\n      <td>1.357000e+03</td>\n      <td>3.920000e+02</td>\n      <td>1.316000e+03</td>\n    </tr>\n  </tbody>\n</table>\n<p>8 rows × 23 columns</p>\n</div>"
     },
     "execution_count": 8,
     "metadata": {},
     "output_type": "execute_result"
    }
   ],
   "source": [
    "# In order to summarize the values we use the built-in pandas function of \"summarize\"\n",
    "df.describe()"
   ],
   "metadata": {
    "collapsed": false,
    "pycharm": {
     "name": "#%%\n"
    }
   }
  },
  {
   "cell_type": "code",
   "execution_count": 26,
   "outputs": [
    {
     "data": {
      "text/plain": "Year                      0\nMonth                     0\nDayofMonth                0\nDayOfWeek                 0\nDepTime                   0\nCRSDepTime                0\nArrTime                7110\nCRSArrTime                0\nUniqueCarrier             0\nFlightNum                 0\nTailNum                   5\nActualElapsedTime      8387\nCRSElapsedTime          198\nAirTime                8387\nArrDelay               8387\nDepDelay                  0\nOrigin                    0\nDest                      0\nDistance                  0\nTaxiIn                 7110\nTaxiOut                 455\nDiverted                  0\nCarrierDelay         689270\nWeatherDelay         689270\nNASDelay             689270\nSecurityDelay        689270\nLateAircraftDelay    689270\nDate                      0\ndtype: int64"
     },
     "execution_count": 26,
     "metadata": {},
     "output_type": "execute_result"
    }
   ],
   "source": [
    "# Find out missing data per column\n",
    "df.isna().sum()"
   ],
   "metadata": {
    "collapsed": false,
    "pycharm": {
     "name": "#%%\n"
    }
   }
  },
  {
   "cell_type": "code",
   "execution_count": 39,
   "outputs": [
    {
     "data": {
      "text/plain": "   Year  Month  DayofMonth  DayOfWeek  DepTime  CRSDepTime  ArrTime  \\\n0  2008      1           3          4   2003.0        1955   2211.0   \n1  2008      1           3          4    754.0         735   1002.0   \n2  2008      1           3          4    628.0         620    804.0   \n4  2008      1           3          4   1829.0        1755   1959.0   \n5  2008      1           3          4   1940.0        1915   2121.0   \n\n   CRSArrTime UniqueCarrier  FlightNum  ... TaxiOut  Diverted  CarrierDelay  \\\n0        2225            WN        335  ...     8.0         0           NaN   \n1        1000            WN       3231  ...    10.0         0           NaN   \n2         750            WN        448  ...    17.0         0           NaN   \n4        1925            WN       3920  ...    10.0         0           2.0   \n5        2110            WN        378  ...    10.0         0           NaN   \n\n   WeatherDelay  NASDelay  SecurityDelay LateAircraftDelay      Date  \\\n0           NaN       NaN            NaN               NaN  2008/1/3   \n1           NaN       NaN            NaN               NaN  2008/1/3   \n2           NaN       NaN            NaN               NaN  2008/1/3   \n4           0.0       0.0            0.0              32.0  2008/1/3   \n5           NaN       NaN            NaN               NaN  2008/1/3   \n\n    avg_speed  is_Late?  \n0  418.965517     False  \n1  430.088496      True  \n2  406.578947      True  \n4  401.298701      True  \n5  474.482759      True  \n\n[5 rows x 30 columns]",
      "text/html": "<div>\n<style scoped>\n    .dataframe tbody tr th:only-of-type {\n        vertical-align: middle;\n    }\n\n    .dataframe tbody tr th {\n        vertical-align: top;\n    }\n\n    .dataframe thead th {\n        text-align: right;\n    }\n</style>\n<table border=\"1\" class=\"dataframe\">\n  <thead>\n    <tr style=\"text-align: right;\">\n      <th></th>\n      <th>Year</th>\n      <th>Month</th>\n      <th>DayofMonth</th>\n      <th>DayOfWeek</th>\n      <th>DepTime</th>\n      <th>CRSDepTime</th>\n      <th>ArrTime</th>\n      <th>CRSArrTime</th>\n      <th>UniqueCarrier</th>\n      <th>FlightNum</th>\n      <th>...</th>\n      <th>TaxiOut</th>\n      <th>Diverted</th>\n      <th>CarrierDelay</th>\n      <th>WeatherDelay</th>\n      <th>NASDelay</th>\n      <th>SecurityDelay</th>\n      <th>LateAircraftDelay</th>\n      <th>Date</th>\n      <th>avg_speed</th>\n      <th>is_Late?</th>\n    </tr>\n  </thead>\n  <tbody>\n    <tr>\n      <th>0</th>\n      <td>2008</td>\n      <td>1</td>\n      <td>3</td>\n      <td>4</td>\n      <td>2003.0</td>\n      <td>1955</td>\n      <td>2211.0</td>\n      <td>2225</td>\n      <td>WN</td>\n      <td>335</td>\n      <td>...</td>\n      <td>8.0</td>\n      <td>0</td>\n      <td>NaN</td>\n      <td>NaN</td>\n      <td>NaN</td>\n      <td>NaN</td>\n      <td>NaN</td>\n      <td>2008/1/3</td>\n      <td>418.965517</td>\n      <td>False</td>\n    </tr>\n    <tr>\n      <th>1</th>\n      <td>2008</td>\n      <td>1</td>\n      <td>3</td>\n      <td>4</td>\n      <td>754.0</td>\n      <td>735</td>\n      <td>1002.0</td>\n      <td>1000</td>\n      <td>WN</td>\n      <td>3231</td>\n      <td>...</td>\n      <td>10.0</td>\n      <td>0</td>\n      <td>NaN</td>\n      <td>NaN</td>\n      <td>NaN</td>\n      <td>NaN</td>\n      <td>NaN</td>\n      <td>2008/1/3</td>\n      <td>430.088496</td>\n      <td>True</td>\n    </tr>\n    <tr>\n      <th>2</th>\n      <td>2008</td>\n      <td>1</td>\n      <td>3</td>\n      <td>4</td>\n      <td>628.0</td>\n      <td>620</td>\n      <td>804.0</td>\n      <td>750</td>\n      <td>WN</td>\n      <td>448</td>\n      <td>...</td>\n      <td>17.0</td>\n      <td>0</td>\n      <td>NaN</td>\n      <td>NaN</td>\n      <td>NaN</td>\n      <td>NaN</td>\n      <td>NaN</td>\n      <td>2008/1/3</td>\n      <td>406.578947</td>\n      <td>True</td>\n    </tr>\n    <tr>\n      <th>4</th>\n      <td>2008</td>\n      <td>1</td>\n      <td>3</td>\n      <td>4</td>\n      <td>1829.0</td>\n      <td>1755</td>\n      <td>1959.0</td>\n      <td>1925</td>\n      <td>WN</td>\n      <td>3920</td>\n      <td>...</td>\n      <td>10.0</td>\n      <td>0</td>\n      <td>2.0</td>\n      <td>0.0</td>\n      <td>0.0</td>\n      <td>0.0</td>\n      <td>32.0</td>\n      <td>2008/1/3</td>\n      <td>401.298701</td>\n      <td>True</td>\n    </tr>\n    <tr>\n      <th>5</th>\n      <td>2008</td>\n      <td>1</td>\n      <td>3</td>\n      <td>4</td>\n      <td>1940.0</td>\n      <td>1915</td>\n      <td>2121.0</td>\n      <td>2110</td>\n      <td>WN</td>\n      <td>378</td>\n      <td>...</td>\n      <td>10.0</td>\n      <td>0</td>\n      <td>NaN</td>\n      <td>NaN</td>\n      <td>NaN</td>\n      <td>NaN</td>\n      <td>NaN</td>\n      <td>2008/1/3</td>\n      <td>474.482759</td>\n      <td>True</td>\n    </tr>\n  </tbody>\n</table>\n<p>5 rows × 30 columns</p>\n</div>"
     },
     "execution_count": 39,
     "metadata": {},
     "output_type": "execute_result"
    }
   ],
   "source": [
    "# Create new columns\n",
    "\n",
    "# New column for average flight speed\n",
    "# Assuming Airtime is minutes and distance is kilometer\n",
    "df[\"avg_speed\"] = df[\"Distance\"] / (df[\"AirTime\"]/60)\n",
    "\n",
    "# Whether late or not\n",
    "df['is_Late?'] = (df[\"ArrTime\"] - df[\"CRSArrTime\"]).apply(lambda x: 'True' if x>0 else 'False')\n",
    "\n",
    "df.head()"
   ],
   "metadata": {
    "collapsed": false,
    "pycharm": {
     "name": "#%%\n"
    }
   }
  }
 ],
 "metadata": {
  "kernelspec": {
   "display_name": "Python 3",
   "language": "python",
   "name": "python3"
  },
  "language_info": {
   "codemirror_mode": {
    "name": "ipython",
    "version": 2
   },
   "file_extension": ".py",
   "mimetype": "text/x-python",
   "name": "python",
   "nbconvert_exporter": "python",
   "pygments_lexer": "ipython2",
   "version": "2.7.6"
  }
 },
 "nbformat": 4,
 "nbformat_minor": 0
}