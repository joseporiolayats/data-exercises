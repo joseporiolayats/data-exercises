{
 "cells": [
  {
   "cell_type": "code",
   "execution_count": 8,
   "outputs": [],
   "source": [
    "import numpy as np\n",
    "import pandas as pd\n",
    "import os\n",
    "import datetime\n",
    "!pip install kaggle --upgrade --quiet"
   ],
   "metadata": {
    "collapsed": false,
    "pycharm": {
     "name": "#%%\n"
    }
   }
  },
  {
   "cell_type": "markdown",
   "source": [
    "# M1 T02: Data exploration and structure - Dataframes with Pandas\n",
    "Description\n",
    "\n",
    "Familiarize yourself with data exploration techniques using the data structure, Dataframe with the Pandas library. Level 1\n",
    "\n",
    "The data used will be taken from Kaggle's datasets **Airlines Delay** found at [Kaggle](https://www.kaggle.com/giovamata/airlinedelaycauses) by [Giovanni Gonzalez](https://www.kaggle.com/giovamata)"
   ],
   "metadata": {
    "collapsed": false
   }
  },
  {
   "cell_type": "markdown",
   "source": [
    "## - Exercise 1\n",
    "Download the Airlines Delay: Airline on-time statistics and delay causes data set and upload it to a Dataframe pandas. Explore the data it contains, and keep only the columns you consider relevant."
   ],
   "metadata": {
    "collapsed": false,
    "pycharm": {
     "name": "#%% md\n"
    }
   }
  },
  {
   "cell_type": "code",
   "execution_count": 22,
   "outputs": [
    {
     "name": "stdout",
     "output_type": "stream",
     "text": [
      "Warning: Your Kaggle API key is readable by other users on this system! To fix this, you can run 'chmod 600 /home/noone/.kaggle/kaggle.json'\r\n",
      "Downloading airlinedelaycauses.zip to /home/noone/data-exercises/kaggle-airline-df/input\r\n",
      "100%|██████████████████████████████████████| 66.6M/66.6M [00:00<00:00, 77.5MB/s]\r\n",
      "100%|██████████████████████████████████████| 66.6M/66.6M [00:00<00:00, 71.9MB/s]\r\n",
      "Archive:  airlinedelaycauses.zip\r\n",
      "  inflating: DelayedFlights.csv      \r\n",
      "  inflating: st99_d00.dbf            \r\n",
      "  inflating: st99_d00.shp            \r\n",
      "  inflating: st99_d00.shx            \r\n"
     ]
    }
   ],
   "source": [
    "# Prepare directories\n",
    "root = os.getcwd()\n",
    "\n",
    "# Change working directory\n",
    "new_wd = \"kaggle-airline-df\"\n",
    "wd_dir = os.path.join(root,new_wd)\n",
    "if not os.path.isdir(wd_dir):\n",
    "    os.mkdir(wd_dir)\n",
    "\n",
    "os.chdir(wd_dir)\n",
    "\n",
    "# Dataset location\n",
    "dataset_dir = os.path.join(wd_dir,\"input\")\n",
    "if not os.path.isdir(dataset_dir):\n",
    "    os.mkdir(dataset_dir)\n",
    "\n",
    "os.chdir(dataset_dir)\n",
    "\n",
    "# Download the dataset using Kaggle's API\n",
    "!kaggle datasets download giovamata/airlinedelaycauses\n",
    "!unzip airlinedelaycauses.zip\n",
    "!rm airlinedelaycauses.zip\n",
    "os.chdir(wd_dir)"
   ],
   "metadata": {
    "collapsed": false,
    "pycharm": {
     "name": "#%%\n"
    }
   }
  },
  {
   "cell_type": "code",
   "execution_count": 28,
   "outputs": [
    {
     "data": {
      "text/plain": "   Unnamed: 0  Year  Month  DayofMonth  DayOfWeek  DepTime  CRSDepTime  \\\n0           0  2008      1           3          4   2003.0        1955   \n1           1  2008      1           3          4    754.0         735   \n2           2  2008      1           3          4    628.0         620   \n3           4  2008      1           3          4   1829.0        1755   \n4           5  2008      1           3          4   1940.0        1915   \n\n   ArrTime  CRSArrTime UniqueCarrier  ...  TaxiIn TaxiOut  Cancelled  \\\n0   2211.0        2225            WN  ...     4.0     8.0          0   \n1   1002.0        1000            WN  ...     5.0    10.0          0   \n2    804.0         750            WN  ...     3.0    17.0          0   \n3   1959.0        1925            WN  ...     3.0    10.0          0   \n4   2121.0        2110            WN  ...     4.0    10.0          0   \n\n   CancellationCode  Diverted  CarrierDelay  WeatherDelay NASDelay  \\\n0                 N         0           NaN           NaN      NaN   \n1                 N         0           NaN           NaN      NaN   \n2                 N         0           NaN           NaN      NaN   \n3                 N         0           2.0           0.0      0.0   \n4                 N         0           NaN           NaN      NaN   \n\n  SecurityDelay  LateAircraftDelay  \n0           NaN                NaN  \n1           NaN                NaN  \n2           NaN                NaN  \n3           0.0               32.0  \n4           NaN                NaN  \n\n[5 rows x 30 columns]",
      "text/html": "<div>\n<style scoped>\n    .dataframe tbody tr th:only-of-type {\n        vertical-align: middle;\n    }\n\n    .dataframe tbody tr th {\n        vertical-align: top;\n    }\n\n    .dataframe thead th {\n        text-align: right;\n    }\n</style>\n<table border=\"1\" class=\"dataframe\">\n  <thead>\n    <tr style=\"text-align: right;\">\n      <th></th>\n      <th>Unnamed: 0</th>\n      <th>Year</th>\n      <th>Month</th>\n      <th>DayofMonth</th>\n      <th>DayOfWeek</th>\n      <th>DepTime</th>\n      <th>CRSDepTime</th>\n      <th>ArrTime</th>\n      <th>CRSArrTime</th>\n      <th>UniqueCarrier</th>\n      <th>...</th>\n      <th>TaxiIn</th>\n      <th>TaxiOut</th>\n      <th>Cancelled</th>\n      <th>CancellationCode</th>\n      <th>Diverted</th>\n      <th>CarrierDelay</th>\n      <th>WeatherDelay</th>\n      <th>NASDelay</th>\n      <th>SecurityDelay</th>\n      <th>LateAircraftDelay</th>\n    </tr>\n  </thead>\n  <tbody>\n    <tr>\n      <th>0</th>\n      <td>0</td>\n      <td>2008</td>\n      <td>1</td>\n      <td>3</td>\n      <td>4</td>\n      <td>2003.0</td>\n      <td>1955</td>\n      <td>2211.0</td>\n      <td>2225</td>\n      <td>WN</td>\n      <td>...</td>\n      <td>4.0</td>\n      <td>8.0</td>\n      <td>0</td>\n      <td>N</td>\n      <td>0</td>\n      <td>NaN</td>\n      <td>NaN</td>\n      <td>NaN</td>\n      <td>NaN</td>\n      <td>NaN</td>\n    </tr>\n    <tr>\n      <th>1</th>\n      <td>1</td>\n      <td>2008</td>\n      <td>1</td>\n      <td>3</td>\n      <td>4</td>\n      <td>754.0</td>\n      <td>735</td>\n      <td>1002.0</td>\n      <td>1000</td>\n      <td>WN</td>\n      <td>...</td>\n      <td>5.0</td>\n      <td>10.0</td>\n      <td>0</td>\n      <td>N</td>\n      <td>0</td>\n      <td>NaN</td>\n      <td>NaN</td>\n      <td>NaN</td>\n      <td>NaN</td>\n      <td>NaN</td>\n    </tr>\n    <tr>\n      <th>2</th>\n      <td>2</td>\n      <td>2008</td>\n      <td>1</td>\n      <td>3</td>\n      <td>4</td>\n      <td>628.0</td>\n      <td>620</td>\n      <td>804.0</td>\n      <td>750</td>\n      <td>WN</td>\n      <td>...</td>\n      <td>3.0</td>\n      <td>17.0</td>\n      <td>0</td>\n      <td>N</td>\n      <td>0</td>\n      <td>NaN</td>\n      <td>NaN</td>\n      <td>NaN</td>\n      <td>NaN</td>\n      <td>NaN</td>\n    </tr>\n    <tr>\n      <th>3</th>\n      <td>4</td>\n      <td>2008</td>\n      <td>1</td>\n      <td>3</td>\n      <td>4</td>\n      <td>1829.0</td>\n      <td>1755</td>\n      <td>1959.0</td>\n      <td>1925</td>\n      <td>WN</td>\n      <td>...</td>\n      <td>3.0</td>\n      <td>10.0</td>\n      <td>0</td>\n      <td>N</td>\n      <td>0</td>\n      <td>2.0</td>\n      <td>0.0</td>\n      <td>0.0</td>\n      <td>0.0</td>\n      <td>32.0</td>\n    </tr>\n    <tr>\n      <th>4</th>\n      <td>5</td>\n      <td>2008</td>\n      <td>1</td>\n      <td>3</td>\n      <td>4</td>\n      <td>1940.0</td>\n      <td>1915</td>\n      <td>2121.0</td>\n      <td>2110</td>\n      <td>WN</td>\n      <td>...</td>\n      <td>4.0</td>\n      <td>10.0</td>\n      <td>0</td>\n      <td>N</td>\n      <td>0</td>\n      <td>NaN</td>\n      <td>NaN</td>\n      <td>NaN</td>\n      <td>NaN</td>\n      <td>NaN</td>\n    </tr>\n  </tbody>\n</table>\n<p>5 rows × 30 columns</p>\n</div>"
     },
     "execution_count": 28,
     "metadata": {},
     "output_type": "execute_result"
    }
   ],
   "source": [
    "# Read the CSV and load it as a Pandas dataframe\n",
    "df = pd.read_csv(\"input/DelayedFlights.csv\")\n",
    "\n",
    "# Let's take a look\n",
    "df.head()"
   ],
   "metadata": {
    "collapsed": false,
    "pycharm": {
     "name": "#%%\n"
    }
   }
  },
  {
   "cell_type": "code",
   "execution_count": 44,
   "outputs": [
    {
     "data": {
      "text/plain": "['Unnamed: 0',\n 'Year',\n 'Month',\n 'DayofMonth',\n 'DayOfWeek',\n 'DepTime',\n 'CRSDepTime',\n 'ArrTime',\n 'CRSArrTime',\n 'UniqueCarrier',\n 'FlightNum',\n 'TailNum',\n 'ActualElapsedTime',\n 'CRSElapsedTime',\n 'AirTime',\n 'ArrDelay',\n 'DepDelay',\n 'Origin',\n 'Dest',\n 'Distance',\n 'TaxiIn',\n 'TaxiOut',\n 'Cancelled',\n 'CancellationCode',\n 'Diverted',\n 'CarrierDelay',\n 'WeatherDelay',\n 'NASDelay',\n 'SecurityDelay',\n 'LateAircraftDelay']"
     },
     "execution_count": 44,
     "metadata": {},
     "output_type": "execute_result"
    }
   ],
   "source": [
    "# Let's check all the column names\n",
    "df.columns.tolist()"
   ],
   "metadata": {
    "collapsed": false,
    "pycharm": {
     "name": "#%%\n"
    }
   }
  },
  {
   "cell_type": "code",
   "execution_count": null,
   "outputs": [],
   "source": [],
   "metadata": {
    "collapsed": false,
    "pycharm": {
     "name": "#%%\n"
    }
   }
  }
 ],
 "metadata": {
  "kernelspec": {
   "display_name": "Python 3",
   "language": "python",
   "name": "python3"
  },
  "language_info": {
   "codemirror_mode": {
    "name": "ipython",
    "version": 2
   },
   "file_extension": ".py",
   "mimetype": "text/x-python",
   "name": "python",
   "nbconvert_exporter": "python",
   "pygments_lexer": "ipython2",
   "version": "2.7.6"
  }
 },
 "nbformat": 4,
 "nbformat_minor": 0
}