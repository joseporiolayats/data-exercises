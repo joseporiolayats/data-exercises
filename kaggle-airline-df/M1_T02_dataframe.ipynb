{
 "cells": [
  {
   "cell_type": "code",
   "execution_count": 1,
   "outputs": [
    {
     "data": {
      "text/plain": "'/home/noone/data-exercises/kaggle-airline-df'"
     },
     "execution_count": 1,
     "metadata": {},
     "output_type": "execute_result"
    }
   ],
   "source": [
    "import pandas as pd\n",
    "import os\n",
    "!pip install kaggle --upgrade --quiet\n",
    "os.getcwd()"
   ],
   "metadata": {
    "collapsed": false,
    "pycharm": {
     "name": "#%%\n"
    }
   }
  },
  {
   "cell_type": "markdown",
   "source": [
    "# M1 T02: Data exploration and structure - Dataframes with Pandas\n",
    "Description\n",
    "\n",
    "Familiarize yourself with data exploration techniques using the data structure, Dataframe with the Pandas library. Level 1\n",
    "\n",
    "The data used will be taken from Kaggle's datasets **Airlines Delay** found at [Kaggle](https://www.kaggle.com/giovamata/airlinedelaycauses) by [Giovanni Gonzalez](https://www.kaggle.com/giovamata)"
   ],
   "metadata": {
    "collapsed": false
   }
  },
  {
   "cell_type": "markdown",
   "source": [
    "## - Exercise 1\n",
    "Download the Airlines Delay: Airline on-time statistics and delay causes data set and upload it to a Dataframe pandas. Explore the data it contains, and keep only the columns you consider relevant."
   ],
   "metadata": {
    "collapsed": false
   }
  },
  {
   "cell_type": "code",
   "execution_count": 2,
   "outputs": [],
   "source": [
    "# Prepare directories\n",
    "root = os.getcwd()\n",
    "\n",
    "# Change working directory\n",
    "new_wd = \"kaggle-airline-df\"\n",
    "if root.split(\"/\")[-1] != new_wd:\n",
    "\n",
    "    wd_dir = os.path.join(root,new_wd)\n",
    "    if not os.path.isdir(wd_dir):\n",
    "        os.mkdir(wd_dir)\n",
    "\n",
    "        os.chdir(wd_dir)\n",
    "\n",
    "        # Dataset location\n",
    "        dataset_dir = os.path.join(wd_dir,\"input\")\n",
    "        if not os.path.isdir(dataset_dir):\n",
    "            os.mkdir(dataset_dir)\n",
    "\n",
    "        os.chdir(dataset_dir)\n",
    "\n",
    "        # Download the dataset using Kaggle's API\n",
    "        !kaggle datasets download giovamata/airlinedelaycauses\n",
    "        !unzip airlinedelaycauses.zip\n",
    "        !rm airlinedelaycauses.zip\n",
    "        os.chdir(wd_dir)"
   ],
   "metadata": {
    "collapsed": false,
    "pycharm": {
     "name": "#%%\n"
    }
   }
  },
  {
   "cell_type": "code",
   "execution_count": 3,
   "outputs": [
    {
     "name": "stdout",
     "output_type": "stream",
     "text": [
      "['Unnamed: 0', 'Year', 'Month', 'DayofMonth', 'DayOfWeek', 'DepTime', 'CRSDepTime', 'ArrTime', 'CRSArrTime', 'UniqueCarrier', 'FlightNum', 'TailNum', 'ActualElapsedTime', 'CRSElapsedTime', 'AirTime', 'ArrDelay', 'DepDelay', 'Origin', 'Dest', 'Distance', 'TaxiIn', 'TaxiOut', 'Cancelled', 'CancellationCode', 'Diverted', 'CarrierDelay', 'WeatherDelay', 'NASDelay', 'SecurityDelay', 'LateAircraftDelay']\n"
     ]
    }
   ],
   "source": [
    "# As this is a dataset centered around flight delays, the main purpose is to analyze the timings related to routes, companies, airports, etc.\n",
    "# By reading the column names, there are some that will not be of interest, which will be removed\n",
    "\n",
    "# Load only the column names from the CSV file\n",
    "file_name = \"input/DelayedFlights.csv\"\n",
    "col_names = pd.read_csv(file_name, nrows=1).columns.tolist()\n",
    "print(col_names)"
   ],
   "metadata": {
    "collapsed": false,
    "pycharm": {
     "name": "#%%\n"
    }
   }
  },
  {
   "cell_type": "code",
   "execution_count": 4,
   "outputs": [],
   "source": [
    "# Let's list the undesired columns\n",
    "undesired_cols_indices = [\"Cancelled\", \"CancellationCode\"]\n",
    "# Remove them from the col_names\n",
    "dummy = [col_names.remove(undesired) for undesired in undesired_cols_indices]"
   ],
   "metadata": {
    "collapsed": false,
    "pycharm": {
     "name": "#%%\n"
    }
   }
  },
  {
   "cell_type": "code",
   "execution_count": 8,
   "outputs": [
    {
     "data": {
      "text/plain": "   Year  Month  DayofMonth  DayOfWeek  DepTime  CRSDepTime  ArrTime  \\\n0  2008      1           3          4   2003.0        1955   2211.0   \n1  2008      1           3          4    754.0         735   1002.0   \n2  2008      1           3          4    628.0         620    804.0   \n4  2008      1           3          4   1829.0        1755   1959.0   \n5  2008      1           3          4   1940.0        1915   2121.0   \n\n   CRSArrTime UniqueCarrier  FlightNum  ... Dest  Distance  TaxiIn  TaxiOut  \\\n0        2225            WN        335  ...  TPA       810     4.0      8.0   \n1        1000            WN       3231  ...  TPA       810     5.0     10.0   \n2         750            WN        448  ...  BWI       515     3.0     17.0   \n4        1925            WN       3920  ...  BWI       515     3.0     10.0   \n5        2110            WN        378  ...  JAX       688     4.0     10.0   \n\n   Diverted  CarrierDelay WeatherDelay NASDelay  SecurityDelay  \\\n0         0           NaN          NaN      NaN            NaN   \n1         0           NaN          NaN      NaN            NaN   \n2         0           NaN          NaN      NaN            NaN   \n4         0           2.0          0.0      0.0            0.0   \n5         0           NaN          NaN      NaN            NaN   \n\n   LateAircraftDelay  \n0                NaN  \n1                NaN  \n2                NaN  \n4               32.0  \n5                NaN  \n\n[5 rows x 27 columns]",
      "text/html": "<div>\n<style scoped>\n    .dataframe tbody tr th:only-of-type {\n        vertical-align: middle;\n    }\n\n    .dataframe tbody tr th {\n        vertical-align: top;\n    }\n\n    .dataframe thead th {\n        text-align: right;\n    }\n</style>\n<table border=\"1\" class=\"dataframe\">\n  <thead>\n    <tr style=\"text-align: right;\">\n      <th></th>\n      <th>Year</th>\n      <th>Month</th>\n      <th>DayofMonth</th>\n      <th>DayOfWeek</th>\n      <th>DepTime</th>\n      <th>CRSDepTime</th>\n      <th>ArrTime</th>\n      <th>CRSArrTime</th>\n      <th>UniqueCarrier</th>\n      <th>FlightNum</th>\n      <th>...</th>\n      <th>Dest</th>\n      <th>Distance</th>\n      <th>TaxiIn</th>\n      <th>TaxiOut</th>\n      <th>Diverted</th>\n      <th>CarrierDelay</th>\n      <th>WeatherDelay</th>\n      <th>NASDelay</th>\n      <th>SecurityDelay</th>\n      <th>LateAircraftDelay</th>\n    </tr>\n  </thead>\n  <tbody>\n    <tr>\n      <th>0</th>\n      <td>2008</td>\n      <td>1</td>\n      <td>3</td>\n      <td>4</td>\n      <td>2003.0</td>\n      <td>1955</td>\n      <td>2211.0</td>\n      <td>2225</td>\n      <td>WN</td>\n      <td>335</td>\n      <td>...</td>\n      <td>TPA</td>\n      <td>810</td>\n      <td>4.0</td>\n      <td>8.0</td>\n      <td>0</td>\n      <td>NaN</td>\n      <td>NaN</td>\n      <td>NaN</td>\n      <td>NaN</td>\n      <td>NaN</td>\n    </tr>\n    <tr>\n      <th>1</th>\n      <td>2008</td>\n      <td>1</td>\n      <td>3</td>\n      <td>4</td>\n      <td>754.0</td>\n      <td>735</td>\n      <td>1002.0</td>\n      <td>1000</td>\n      <td>WN</td>\n      <td>3231</td>\n      <td>...</td>\n      <td>TPA</td>\n      <td>810</td>\n      <td>5.0</td>\n      <td>10.0</td>\n      <td>0</td>\n      <td>NaN</td>\n      <td>NaN</td>\n      <td>NaN</td>\n      <td>NaN</td>\n      <td>NaN</td>\n    </tr>\n    <tr>\n      <th>2</th>\n      <td>2008</td>\n      <td>1</td>\n      <td>3</td>\n      <td>4</td>\n      <td>628.0</td>\n      <td>620</td>\n      <td>804.0</td>\n      <td>750</td>\n      <td>WN</td>\n      <td>448</td>\n      <td>...</td>\n      <td>BWI</td>\n      <td>515</td>\n      <td>3.0</td>\n      <td>17.0</td>\n      <td>0</td>\n      <td>NaN</td>\n      <td>NaN</td>\n      <td>NaN</td>\n      <td>NaN</td>\n      <td>NaN</td>\n    </tr>\n    <tr>\n      <th>4</th>\n      <td>2008</td>\n      <td>1</td>\n      <td>3</td>\n      <td>4</td>\n      <td>1829.0</td>\n      <td>1755</td>\n      <td>1959.0</td>\n      <td>1925</td>\n      <td>WN</td>\n      <td>3920</td>\n      <td>...</td>\n      <td>BWI</td>\n      <td>515</td>\n      <td>3.0</td>\n      <td>10.0</td>\n      <td>0</td>\n      <td>2.0</td>\n      <td>0.0</td>\n      <td>0.0</td>\n      <td>0.0</td>\n      <td>32.0</td>\n    </tr>\n    <tr>\n      <th>5</th>\n      <td>2008</td>\n      <td>1</td>\n      <td>3</td>\n      <td>4</td>\n      <td>1940.0</td>\n      <td>1915</td>\n      <td>2121.0</td>\n      <td>2110</td>\n      <td>WN</td>\n      <td>378</td>\n      <td>...</td>\n      <td>JAX</td>\n      <td>688</td>\n      <td>4.0</td>\n      <td>10.0</td>\n      <td>0</td>\n      <td>NaN</td>\n      <td>NaN</td>\n      <td>NaN</td>\n      <td>NaN</td>\n      <td>NaN</td>\n    </tr>\n  </tbody>\n</table>\n<p>5 rows × 27 columns</p>\n</div>"
     },
     "execution_count": 8,
     "metadata": {},
     "output_type": "execute_result"
    }
   ],
   "source": [
    "# Now load the CSV data file with only the desired data, using the first column as index.\n",
    "# The index usually does not have any name, maybe because of that the shown name is \"Unnamed:0\"\n",
    "df = pd.read_csv(file_name, usecols=col_names, index_col=0)\n",
    "# Let's take a look\n",
    "df.head()"
   ],
   "metadata": {
    "collapsed": false,
    "pycharm": {
     "name": "#%%\n"
    }
   }
  },
  {
   "cell_type": "code",
   "execution_count": 11,
   "outputs": [
    {
     "data": {
      "text/plain": "         level_0    index  Year  Month  DayofMonth  DayOfWeek  DepTime  \\\n0              0        0  2008      1           3          4   2003.0   \n1              1        1  2008      1           3          4    754.0   \n2              2        2  2008      1           3          4    628.0   \n3              3        4  2008      1           3          4   1829.0   \n4              4        5  2008      1           3          4   1940.0   \n...          ...      ...   ...    ...         ...        ...      ...   \n1936753  1936753  7009710  2008     12          13          6   1250.0   \n1936754  1936754  7009717  2008     12          13          6    657.0   \n1936755  1936755  7009718  2008     12          13          6   1007.0   \n1936756  1936756  7009726  2008     12          13          6   1251.0   \n1936757  1936757  7009727  2008     12          13          6   1110.0   \n\n         CRSDepTime  ArrTime  CRSArrTime  ... Dest  Distance TaxiIn  TaxiOut  \\\n0              1955   2211.0        2225  ...  TPA       810    4.0      8.0   \n1               735   1002.0        1000  ...  TPA       810    5.0     10.0   \n2               620    804.0         750  ...  BWI       515    3.0     17.0   \n3              1755   1959.0        1925  ...  BWI       515    3.0     10.0   \n4              1915   2121.0        2110  ...  JAX       688    4.0     10.0   \n...             ...      ...         ...  ...  ...       ...    ...      ...   \n1936753        1220   1617.0        1552  ...  ATL       906    9.0     18.0   \n1936754         600    904.0         749  ...  ATL       481   15.0     34.0   \n1936755         847   1149.0        1010  ...  IAH       689    8.0     32.0   \n1936756        1240   1446.0        1437  ...  ATL       533   13.0     13.0   \n1936757        1103   1413.0        1418  ...  ATL       874    8.0     11.0   \n\n         Diverted  CarrierDelay  WeatherDelay  NASDelay SecurityDelay  \\\n0               0           NaN           NaN       NaN           NaN   \n1               0           NaN           NaN       NaN           NaN   \n2               0           NaN           NaN       NaN           NaN   \n3               0           2.0           0.0       0.0           0.0   \n4               0           NaN           NaN       NaN           NaN   \n...           ...           ...           ...       ...           ...   \n1936753         0           3.0           0.0       0.0           0.0   \n1936754         0           0.0          57.0      18.0           0.0   \n1936755         0           1.0           0.0      19.0           0.0   \n1936756         0           NaN           NaN       NaN           NaN   \n1936757         0           NaN           NaN       NaN           NaN   \n\n        LateAircraftDelay  \n0                     NaN  \n1                     NaN  \n2                     NaN  \n3                    32.0  \n4                     NaN  \n...                   ...  \n1936753              22.0  \n1936754               0.0  \n1936755              79.0  \n1936756               NaN  \n1936757               NaN  \n\n[1936758 rows x 29 columns]",
      "text/html": "<div>\n<style scoped>\n    .dataframe tbody tr th:only-of-type {\n        vertical-align: middle;\n    }\n\n    .dataframe tbody tr th {\n        vertical-align: top;\n    }\n\n    .dataframe thead th {\n        text-align: right;\n    }\n</style>\n<table border=\"1\" class=\"dataframe\">\n  <thead>\n    <tr style=\"text-align: right;\">\n      <th></th>\n      <th>level_0</th>\n      <th>index</th>\n      <th>Year</th>\n      <th>Month</th>\n      <th>DayofMonth</th>\n      <th>DayOfWeek</th>\n      <th>DepTime</th>\n      <th>CRSDepTime</th>\n      <th>ArrTime</th>\n      <th>CRSArrTime</th>\n      <th>...</th>\n      <th>Dest</th>\n      <th>Distance</th>\n      <th>TaxiIn</th>\n      <th>TaxiOut</th>\n      <th>Diverted</th>\n      <th>CarrierDelay</th>\n      <th>WeatherDelay</th>\n      <th>NASDelay</th>\n      <th>SecurityDelay</th>\n      <th>LateAircraftDelay</th>\n    </tr>\n  </thead>\n  <tbody>\n    <tr>\n      <th>0</th>\n      <td>0</td>\n      <td>0</td>\n      <td>2008</td>\n      <td>1</td>\n      <td>3</td>\n      <td>4</td>\n      <td>2003.0</td>\n      <td>1955</td>\n      <td>2211.0</td>\n      <td>2225</td>\n      <td>...</td>\n      <td>TPA</td>\n      <td>810</td>\n      <td>4.0</td>\n      <td>8.0</td>\n      <td>0</td>\n      <td>NaN</td>\n      <td>NaN</td>\n      <td>NaN</td>\n      <td>NaN</td>\n      <td>NaN</td>\n    </tr>\n    <tr>\n      <th>1</th>\n      <td>1</td>\n      <td>1</td>\n      <td>2008</td>\n      <td>1</td>\n      <td>3</td>\n      <td>4</td>\n      <td>754.0</td>\n      <td>735</td>\n      <td>1002.0</td>\n      <td>1000</td>\n      <td>...</td>\n      <td>TPA</td>\n      <td>810</td>\n      <td>5.0</td>\n      <td>10.0</td>\n      <td>0</td>\n      <td>NaN</td>\n      <td>NaN</td>\n      <td>NaN</td>\n      <td>NaN</td>\n      <td>NaN</td>\n    </tr>\n    <tr>\n      <th>2</th>\n      <td>2</td>\n      <td>2</td>\n      <td>2008</td>\n      <td>1</td>\n      <td>3</td>\n      <td>4</td>\n      <td>628.0</td>\n      <td>620</td>\n      <td>804.0</td>\n      <td>750</td>\n      <td>...</td>\n      <td>BWI</td>\n      <td>515</td>\n      <td>3.0</td>\n      <td>17.0</td>\n      <td>0</td>\n      <td>NaN</td>\n      <td>NaN</td>\n      <td>NaN</td>\n      <td>NaN</td>\n      <td>NaN</td>\n    </tr>\n    <tr>\n      <th>3</th>\n      <td>3</td>\n      <td>4</td>\n      <td>2008</td>\n      <td>1</td>\n      <td>3</td>\n      <td>4</td>\n      <td>1829.0</td>\n      <td>1755</td>\n      <td>1959.0</td>\n      <td>1925</td>\n      <td>...</td>\n      <td>BWI</td>\n      <td>515</td>\n      <td>3.0</td>\n      <td>10.0</td>\n      <td>0</td>\n      <td>2.0</td>\n      <td>0.0</td>\n      <td>0.0</td>\n      <td>0.0</td>\n      <td>32.0</td>\n    </tr>\n    <tr>\n      <th>4</th>\n      <td>4</td>\n      <td>5</td>\n      <td>2008</td>\n      <td>1</td>\n      <td>3</td>\n      <td>4</td>\n      <td>1940.0</td>\n      <td>1915</td>\n      <td>2121.0</td>\n      <td>2110</td>\n      <td>...</td>\n      <td>JAX</td>\n      <td>688</td>\n      <td>4.0</td>\n      <td>10.0</td>\n      <td>0</td>\n      <td>NaN</td>\n      <td>NaN</td>\n      <td>NaN</td>\n      <td>NaN</td>\n      <td>NaN</td>\n    </tr>\n    <tr>\n      <th>...</th>\n      <td>...</td>\n      <td>...</td>\n      <td>...</td>\n      <td>...</td>\n      <td>...</td>\n      <td>...</td>\n      <td>...</td>\n      <td>...</td>\n      <td>...</td>\n      <td>...</td>\n      <td>...</td>\n      <td>...</td>\n      <td>...</td>\n      <td>...</td>\n      <td>...</td>\n      <td>...</td>\n      <td>...</td>\n      <td>...</td>\n      <td>...</td>\n      <td>...</td>\n      <td>...</td>\n    </tr>\n    <tr>\n      <th>1936753</th>\n      <td>1936753</td>\n      <td>7009710</td>\n      <td>2008</td>\n      <td>12</td>\n      <td>13</td>\n      <td>6</td>\n      <td>1250.0</td>\n      <td>1220</td>\n      <td>1617.0</td>\n      <td>1552</td>\n      <td>...</td>\n      <td>ATL</td>\n      <td>906</td>\n      <td>9.0</td>\n      <td>18.0</td>\n      <td>0</td>\n      <td>3.0</td>\n      <td>0.0</td>\n      <td>0.0</td>\n      <td>0.0</td>\n      <td>22.0</td>\n    </tr>\n    <tr>\n      <th>1936754</th>\n      <td>1936754</td>\n      <td>7009717</td>\n      <td>2008</td>\n      <td>12</td>\n      <td>13</td>\n      <td>6</td>\n      <td>657.0</td>\n      <td>600</td>\n      <td>904.0</td>\n      <td>749</td>\n      <td>...</td>\n      <td>ATL</td>\n      <td>481</td>\n      <td>15.0</td>\n      <td>34.0</td>\n      <td>0</td>\n      <td>0.0</td>\n      <td>57.0</td>\n      <td>18.0</td>\n      <td>0.0</td>\n      <td>0.0</td>\n    </tr>\n    <tr>\n      <th>1936755</th>\n      <td>1936755</td>\n      <td>7009718</td>\n      <td>2008</td>\n      <td>12</td>\n      <td>13</td>\n      <td>6</td>\n      <td>1007.0</td>\n      <td>847</td>\n      <td>1149.0</td>\n      <td>1010</td>\n      <td>...</td>\n      <td>IAH</td>\n      <td>689</td>\n      <td>8.0</td>\n      <td>32.0</td>\n      <td>0</td>\n      <td>1.0</td>\n      <td>0.0</td>\n      <td>19.0</td>\n      <td>0.0</td>\n      <td>79.0</td>\n    </tr>\n    <tr>\n      <th>1936756</th>\n      <td>1936756</td>\n      <td>7009726</td>\n      <td>2008</td>\n      <td>12</td>\n      <td>13</td>\n      <td>6</td>\n      <td>1251.0</td>\n      <td>1240</td>\n      <td>1446.0</td>\n      <td>1437</td>\n      <td>...</td>\n      <td>ATL</td>\n      <td>533</td>\n      <td>13.0</td>\n      <td>13.0</td>\n      <td>0</td>\n      <td>NaN</td>\n      <td>NaN</td>\n      <td>NaN</td>\n      <td>NaN</td>\n      <td>NaN</td>\n    </tr>\n    <tr>\n      <th>1936757</th>\n      <td>1936757</td>\n      <td>7009727</td>\n      <td>2008</td>\n      <td>12</td>\n      <td>13</td>\n      <td>6</td>\n      <td>1110.0</td>\n      <td>1103</td>\n      <td>1413.0</td>\n      <td>1418</td>\n      <td>...</td>\n      <td>ATL</td>\n      <td>874</td>\n      <td>8.0</td>\n      <td>11.0</td>\n      <td>0</td>\n      <td>NaN</td>\n      <td>NaN</td>\n      <td>NaN</td>\n      <td>NaN</td>\n      <td>NaN</td>\n    </tr>\n  </tbody>\n</table>\n<p>1936758 rows × 29 columns</p>\n</div>"
     },
     "execution_count": 11,
     "metadata": {},
     "output_type": "execute_result"
    }
   ],
   "source": [
    "df.reset_index(inplace=True)\n",
    "df"
   ],
   "metadata": {
    "collapsed": false,
    "pycharm": {
     "name": "#%%\n"
    }
   }
  },
  {
   "cell_type": "markdown",
   "source": [
    "## - Exercise 2\n",
    "Make a complete report of the date set:\n",
    "\n",
    "- Summarize the columns of interest statistically\n",
    "- Find how many missing data are per column\n",
    "- Create new columns (average flight speed, whether late or not ...)\n",
    "- Table of airlines with the most accumulated arrears\n",
    "- What are the longest flights? And the most backward?"
   ],
   "metadata": {
    "collapsed": false
   }
  },
  {
   "cell_type": "code",
   "execution_count": 12,
   "outputs": [
    {
     "data": {
      "text/plain": "            level_0         index       Year         Month    DayofMonth  \\\ncount  1.936758e+06  1.936758e+06  1936758.0  1.936758e+06  1.936758e+06   \nmean   9.683785e+05  3.341651e+06     2008.0  6.111106e+00  1.575347e+01   \nstd    5.590940e+05  2.066065e+06        0.0  3.482546e+00  8.776272e+00   \nmin    0.000000e+00  0.000000e+00     2008.0  1.000000e+00  1.000000e+00   \n25%    4.841892e+05  1.517452e+06     2008.0  3.000000e+00  8.000000e+00   \n50%    9.683785e+05  3.242558e+06     2008.0  6.000000e+00  1.600000e+01   \n75%    1.452568e+06  4.972467e+06     2008.0  9.000000e+00  2.300000e+01   \nmax    1.936757e+06  7.009727e+06     2008.0  1.200000e+01  3.100000e+01   \n\n          DayOfWeek       DepTime    CRSDepTime       ArrTime    CRSArrTime  \\\ncount  1.936758e+06  1.936758e+06  1.936758e+06  1.929648e+06  1.936758e+06   \nmean   3.984827e+00  1.518534e+03  1.467473e+03  1.610141e+03  1.634225e+03   \nstd    1.995966e+00  4.504853e+02  4.247668e+02  5.481781e+02  4.646347e+02   \nmin    1.000000e+00  1.000000e+00  0.000000e+00  1.000000e+00  0.000000e+00   \n25%    2.000000e+00  1.203000e+03  1.135000e+03  1.316000e+03  1.325000e+03   \n50%    4.000000e+00  1.545000e+03  1.510000e+03  1.715000e+03  1.705000e+03   \n75%    6.000000e+00  1.900000e+03  1.815000e+03  2.030000e+03  2.014000e+03   \nmax    7.000000e+00  2.400000e+03  2.359000e+03  2.400000e+03  2.400000e+03   \n\n       ...      DepDelay      Distance        TaxiIn       TaxiOut  \\\ncount  ...  1.936758e+06  1.936758e+06  1.929648e+06  1.936303e+06   \nmean   ...  4.318518e+01  7.656862e+02  6.812975e+00  1.823220e+01   \nstd    ...  5.340250e+01  5.744797e+02  5.273595e+00  1.433853e+01   \nmin    ...  6.000000e+00  1.100000e+01  0.000000e+00  0.000000e+00   \n25%    ...  1.200000e+01  3.380000e+02  4.000000e+00  1.000000e+01   \n50%    ...  2.400000e+01  6.060000e+02  6.000000e+00  1.400000e+01   \n75%    ...  5.300000e+01  9.980000e+02  8.000000e+00  2.100000e+01   \nmax    ...  2.467000e+03  4.962000e+03  2.400000e+02  4.220000e+02   \n\n           Diverted  CarrierDelay  WeatherDelay      NASDelay  SecurityDelay  \\\ncount  1.936758e+06  1.247488e+06  1.247488e+06  1.247488e+06   1.247488e+06   \nmean   4.003598e-03  1.917940e+01  3.703571e+00  1.502164e+01   9.013714e-02   \nstd    6.314722e-02  4.354621e+01  2.149290e+01  3.383305e+01   2.022714e+00   \nmin    0.000000e+00  0.000000e+00  0.000000e+00  0.000000e+00   0.000000e+00   \n25%    0.000000e+00  0.000000e+00  0.000000e+00  0.000000e+00   0.000000e+00   \n50%    0.000000e+00  2.000000e+00  0.000000e+00  2.000000e+00   0.000000e+00   \n75%    0.000000e+00  2.100000e+01  0.000000e+00  1.500000e+01   0.000000e+00   \nmax    1.000000e+00  2.436000e+03  1.352000e+03  1.357000e+03   3.920000e+02   \n\n       LateAircraftDelay  \ncount       1.247488e+06  \nmean        2.529647e+01  \nstd         4.205486e+01  \nmin         0.000000e+00  \n25%         0.000000e+00  \n50%         8.000000e+00  \n75%         3.300000e+01  \nmax         1.316000e+03  \n\n[8 rows x 25 columns]",
      "text/html": "<div>\n<style scoped>\n    .dataframe tbody tr th:only-of-type {\n        vertical-align: middle;\n    }\n\n    .dataframe tbody tr th {\n        vertical-align: top;\n    }\n\n    .dataframe thead th {\n        text-align: right;\n    }\n</style>\n<table border=\"1\" class=\"dataframe\">\n  <thead>\n    <tr style=\"text-align: right;\">\n      <th></th>\n      <th>level_0</th>\n      <th>index</th>\n      <th>Year</th>\n      <th>Month</th>\n      <th>DayofMonth</th>\n      <th>DayOfWeek</th>\n      <th>DepTime</th>\n      <th>CRSDepTime</th>\n      <th>ArrTime</th>\n      <th>CRSArrTime</th>\n      <th>...</th>\n      <th>DepDelay</th>\n      <th>Distance</th>\n      <th>TaxiIn</th>\n      <th>TaxiOut</th>\n      <th>Diverted</th>\n      <th>CarrierDelay</th>\n      <th>WeatherDelay</th>\n      <th>NASDelay</th>\n      <th>SecurityDelay</th>\n      <th>LateAircraftDelay</th>\n    </tr>\n  </thead>\n  <tbody>\n    <tr>\n      <th>count</th>\n      <td>1.936758e+06</td>\n      <td>1.936758e+06</td>\n      <td>1936758.0</td>\n      <td>1.936758e+06</td>\n      <td>1.936758e+06</td>\n      <td>1.936758e+06</td>\n      <td>1.936758e+06</td>\n      <td>1.936758e+06</td>\n      <td>1.929648e+06</td>\n      <td>1.936758e+06</td>\n      <td>...</td>\n      <td>1.936758e+06</td>\n      <td>1.936758e+06</td>\n      <td>1.929648e+06</td>\n      <td>1.936303e+06</td>\n      <td>1.936758e+06</td>\n      <td>1.247488e+06</td>\n      <td>1.247488e+06</td>\n      <td>1.247488e+06</td>\n      <td>1.247488e+06</td>\n      <td>1.247488e+06</td>\n    </tr>\n    <tr>\n      <th>mean</th>\n      <td>9.683785e+05</td>\n      <td>3.341651e+06</td>\n      <td>2008.0</td>\n      <td>6.111106e+00</td>\n      <td>1.575347e+01</td>\n      <td>3.984827e+00</td>\n      <td>1.518534e+03</td>\n      <td>1.467473e+03</td>\n      <td>1.610141e+03</td>\n      <td>1.634225e+03</td>\n      <td>...</td>\n      <td>4.318518e+01</td>\n      <td>7.656862e+02</td>\n      <td>6.812975e+00</td>\n      <td>1.823220e+01</td>\n      <td>4.003598e-03</td>\n      <td>1.917940e+01</td>\n      <td>3.703571e+00</td>\n      <td>1.502164e+01</td>\n      <td>9.013714e-02</td>\n      <td>2.529647e+01</td>\n    </tr>\n    <tr>\n      <th>std</th>\n      <td>5.590940e+05</td>\n      <td>2.066065e+06</td>\n      <td>0.0</td>\n      <td>3.482546e+00</td>\n      <td>8.776272e+00</td>\n      <td>1.995966e+00</td>\n      <td>4.504853e+02</td>\n      <td>4.247668e+02</td>\n      <td>5.481781e+02</td>\n      <td>4.646347e+02</td>\n      <td>...</td>\n      <td>5.340250e+01</td>\n      <td>5.744797e+02</td>\n      <td>5.273595e+00</td>\n      <td>1.433853e+01</td>\n      <td>6.314722e-02</td>\n      <td>4.354621e+01</td>\n      <td>2.149290e+01</td>\n      <td>3.383305e+01</td>\n      <td>2.022714e+00</td>\n      <td>4.205486e+01</td>\n    </tr>\n    <tr>\n      <th>min</th>\n      <td>0.000000e+00</td>\n      <td>0.000000e+00</td>\n      <td>2008.0</td>\n      <td>1.000000e+00</td>\n      <td>1.000000e+00</td>\n      <td>1.000000e+00</td>\n      <td>1.000000e+00</td>\n      <td>0.000000e+00</td>\n      <td>1.000000e+00</td>\n      <td>0.000000e+00</td>\n      <td>...</td>\n      <td>6.000000e+00</td>\n      <td>1.100000e+01</td>\n      <td>0.000000e+00</td>\n      <td>0.000000e+00</td>\n      <td>0.000000e+00</td>\n      <td>0.000000e+00</td>\n      <td>0.000000e+00</td>\n      <td>0.000000e+00</td>\n      <td>0.000000e+00</td>\n      <td>0.000000e+00</td>\n    </tr>\n    <tr>\n      <th>25%</th>\n      <td>4.841892e+05</td>\n      <td>1.517452e+06</td>\n      <td>2008.0</td>\n      <td>3.000000e+00</td>\n      <td>8.000000e+00</td>\n      <td>2.000000e+00</td>\n      <td>1.203000e+03</td>\n      <td>1.135000e+03</td>\n      <td>1.316000e+03</td>\n      <td>1.325000e+03</td>\n      <td>...</td>\n      <td>1.200000e+01</td>\n      <td>3.380000e+02</td>\n      <td>4.000000e+00</td>\n      <td>1.000000e+01</td>\n      <td>0.000000e+00</td>\n      <td>0.000000e+00</td>\n      <td>0.000000e+00</td>\n      <td>0.000000e+00</td>\n      <td>0.000000e+00</td>\n      <td>0.000000e+00</td>\n    </tr>\n    <tr>\n      <th>50%</th>\n      <td>9.683785e+05</td>\n      <td>3.242558e+06</td>\n      <td>2008.0</td>\n      <td>6.000000e+00</td>\n      <td>1.600000e+01</td>\n      <td>4.000000e+00</td>\n      <td>1.545000e+03</td>\n      <td>1.510000e+03</td>\n      <td>1.715000e+03</td>\n      <td>1.705000e+03</td>\n      <td>...</td>\n      <td>2.400000e+01</td>\n      <td>6.060000e+02</td>\n      <td>6.000000e+00</td>\n      <td>1.400000e+01</td>\n      <td>0.000000e+00</td>\n      <td>2.000000e+00</td>\n      <td>0.000000e+00</td>\n      <td>2.000000e+00</td>\n      <td>0.000000e+00</td>\n      <td>8.000000e+00</td>\n    </tr>\n    <tr>\n      <th>75%</th>\n      <td>1.452568e+06</td>\n      <td>4.972467e+06</td>\n      <td>2008.0</td>\n      <td>9.000000e+00</td>\n      <td>2.300000e+01</td>\n      <td>6.000000e+00</td>\n      <td>1.900000e+03</td>\n      <td>1.815000e+03</td>\n      <td>2.030000e+03</td>\n      <td>2.014000e+03</td>\n      <td>...</td>\n      <td>5.300000e+01</td>\n      <td>9.980000e+02</td>\n      <td>8.000000e+00</td>\n      <td>2.100000e+01</td>\n      <td>0.000000e+00</td>\n      <td>2.100000e+01</td>\n      <td>0.000000e+00</td>\n      <td>1.500000e+01</td>\n      <td>0.000000e+00</td>\n      <td>3.300000e+01</td>\n    </tr>\n    <tr>\n      <th>max</th>\n      <td>1.936757e+06</td>\n      <td>7.009727e+06</td>\n      <td>2008.0</td>\n      <td>1.200000e+01</td>\n      <td>3.100000e+01</td>\n      <td>7.000000e+00</td>\n      <td>2.400000e+03</td>\n      <td>2.359000e+03</td>\n      <td>2.400000e+03</td>\n      <td>2.400000e+03</td>\n      <td>...</td>\n      <td>2.467000e+03</td>\n      <td>4.962000e+03</td>\n      <td>2.400000e+02</td>\n      <td>4.220000e+02</td>\n      <td>1.000000e+00</td>\n      <td>2.436000e+03</td>\n      <td>1.352000e+03</td>\n      <td>1.357000e+03</td>\n      <td>3.920000e+02</td>\n      <td>1.316000e+03</td>\n    </tr>\n  </tbody>\n</table>\n<p>8 rows × 25 columns</p>\n</div>"
     },
     "execution_count": 12,
     "metadata": {},
     "output_type": "execute_result"
    }
   ],
   "source": [
    "# In order to summarize the values we use the built-in pandas function of \"summarize\"\n",
    "df.describe()"
   ],
   "metadata": {
    "collapsed": false,
    "pycharm": {
     "name": "#%%\n"
    }
   }
  },
  {
   "cell_type": "code",
   "execution_count": 13,
   "outputs": [
    {
     "data": {
      "text/plain": "level_0                   0\nindex                     0\nYear                      0\nMonth                     0\nDayofMonth                0\nDayOfWeek                 0\nDepTime                   0\nCRSDepTime                0\nArrTime                7110\nCRSArrTime                0\nUniqueCarrier             0\nFlightNum                 0\nTailNum                   5\nActualElapsedTime      8387\nCRSElapsedTime          198\nAirTime                8387\nArrDelay               8387\nDepDelay                  0\nOrigin                    0\nDest                      0\nDistance                  0\nTaxiIn                 7110\nTaxiOut                 455\nDiverted                  0\nCarrierDelay         689270\nWeatherDelay         689270\nNASDelay             689270\nSecurityDelay        689270\nLateAircraftDelay    689270\ndtype: int64"
     },
     "execution_count": 13,
     "metadata": {},
     "output_type": "execute_result"
    }
   ],
   "source": [
    "# Find out missing data per column\n",
    "df.isna().sum(axis=0)"
   ],
   "metadata": {
    "collapsed": false,
    "pycharm": {
     "name": "#%%\n"
    }
   }
  },
  {
   "cell_type": "code",
   "execution_count": 15,
   "outputs": [
    {
     "data": {
      "text/plain": "   level_0  index  Year  Month  DayofMonth  DayOfWeek  DepTime  CRSDepTime  \\\n0        0      0  2008      1           3          4   2003.0        1955   \n1        1      1  2008      1           3          4    754.0         735   \n2        2      2  2008      1           3          4    628.0         620   \n3        3      4  2008      1           3          4   1829.0        1755   \n4        4      5  2008      1           3          4   1940.0        1915   \n\n   ArrTime  CRSArrTime  ... Distance  TaxiIn TaxiOut  Diverted  CarrierDelay  \\\n0   2211.0        2225  ...      810     4.0     8.0         0           NaN   \n1   1002.0        1000  ...      810     5.0    10.0         0           NaN   \n2    804.0         750  ...      515     3.0    17.0         0           NaN   \n3   1959.0        1925  ...      515     3.0    10.0         0           2.0   \n4   2121.0        2110  ...      688     4.0    10.0         0           NaN   \n\n   WeatherDelay  NASDelay  SecurityDelay LateAircraftDelay   avg_speed  \n0           NaN       NaN            NaN               NaN  418.965517  \n1           NaN       NaN            NaN               NaN  430.088496  \n2           NaN       NaN            NaN               NaN  406.578947  \n3           0.0       0.0            0.0              32.0  401.298701  \n4           NaN       NaN            NaN               NaN  474.482759  \n\n[5 rows x 30 columns]",
      "text/html": "<div>\n<style scoped>\n    .dataframe tbody tr th:only-of-type {\n        vertical-align: middle;\n    }\n\n    .dataframe tbody tr th {\n        vertical-align: top;\n    }\n\n    .dataframe thead th {\n        text-align: right;\n    }\n</style>\n<table border=\"1\" class=\"dataframe\">\n  <thead>\n    <tr style=\"text-align: right;\">\n      <th></th>\n      <th>level_0</th>\n      <th>index</th>\n      <th>Year</th>\n      <th>Month</th>\n      <th>DayofMonth</th>\n      <th>DayOfWeek</th>\n      <th>DepTime</th>\n      <th>CRSDepTime</th>\n      <th>ArrTime</th>\n      <th>CRSArrTime</th>\n      <th>...</th>\n      <th>Distance</th>\n      <th>TaxiIn</th>\n      <th>TaxiOut</th>\n      <th>Diverted</th>\n      <th>CarrierDelay</th>\n      <th>WeatherDelay</th>\n      <th>NASDelay</th>\n      <th>SecurityDelay</th>\n      <th>LateAircraftDelay</th>\n      <th>avg_speed</th>\n    </tr>\n  </thead>\n  <tbody>\n    <tr>\n      <th>0</th>\n      <td>0</td>\n      <td>0</td>\n      <td>2008</td>\n      <td>1</td>\n      <td>3</td>\n      <td>4</td>\n      <td>2003.0</td>\n      <td>1955</td>\n      <td>2211.0</td>\n      <td>2225</td>\n      <td>...</td>\n      <td>810</td>\n      <td>4.0</td>\n      <td>8.0</td>\n      <td>0</td>\n      <td>NaN</td>\n      <td>NaN</td>\n      <td>NaN</td>\n      <td>NaN</td>\n      <td>NaN</td>\n      <td>418.965517</td>\n    </tr>\n    <tr>\n      <th>1</th>\n      <td>1</td>\n      <td>1</td>\n      <td>2008</td>\n      <td>1</td>\n      <td>3</td>\n      <td>4</td>\n      <td>754.0</td>\n      <td>735</td>\n      <td>1002.0</td>\n      <td>1000</td>\n      <td>...</td>\n      <td>810</td>\n      <td>5.0</td>\n      <td>10.0</td>\n      <td>0</td>\n      <td>NaN</td>\n      <td>NaN</td>\n      <td>NaN</td>\n      <td>NaN</td>\n      <td>NaN</td>\n      <td>430.088496</td>\n    </tr>\n    <tr>\n      <th>2</th>\n      <td>2</td>\n      <td>2</td>\n      <td>2008</td>\n      <td>1</td>\n      <td>3</td>\n      <td>4</td>\n      <td>628.0</td>\n      <td>620</td>\n      <td>804.0</td>\n      <td>750</td>\n      <td>...</td>\n      <td>515</td>\n      <td>3.0</td>\n      <td>17.0</td>\n      <td>0</td>\n      <td>NaN</td>\n      <td>NaN</td>\n      <td>NaN</td>\n      <td>NaN</td>\n      <td>NaN</td>\n      <td>406.578947</td>\n    </tr>\n    <tr>\n      <th>3</th>\n      <td>3</td>\n      <td>4</td>\n      <td>2008</td>\n      <td>1</td>\n      <td>3</td>\n      <td>4</td>\n      <td>1829.0</td>\n      <td>1755</td>\n      <td>1959.0</td>\n      <td>1925</td>\n      <td>...</td>\n      <td>515</td>\n      <td>3.0</td>\n      <td>10.0</td>\n      <td>0</td>\n      <td>2.0</td>\n      <td>0.0</td>\n      <td>0.0</td>\n      <td>0.0</td>\n      <td>32.0</td>\n      <td>401.298701</td>\n    </tr>\n    <tr>\n      <th>4</th>\n      <td>4</td>\n      <td>5</td>\n      <td>2008</td>\n      <td>1</td>\n      <td>3</td>\n      <td>4</td>\n      <td>1940.0</td>\n      <td>1915</td>\n      <td>2121.0</td>\n      <td>2110</td>\n      <td>...</td>\n      <td>688</td>\n      <td>4.0</td>\n      <td>10.0</td>\n      <td>0</td>\n      <td>NaN</td>\n      <td>NaN</td>\n      <td>NaN</td>\n      <td>NaN</td>\n      <td>NaN</td>\n      <td>474.482759</td>\n    </tr>\n  </tbody>\n</table>\n<p>5 rows × 30 columns</p>\n</div>"
     },
     "execution_count": 15,
     "metadata": {},
     "output_type": "execute_result"
    }
   ],
   "source": [
    "# Create new columns\n",
    "\n",
    "# New column for average flight speed\n",
    "# Assuming Airtime is minutes and distance is kilometer\n",
    "df[\"avg_speed\"] = df[\"Distance\"] / (df[\"AirTime\"]/60)\n",
    "df.head()"
   ],
   "metadata": {
    "collapsed": false,
    "pycharm": {
     "name": "#%%\n"
    }
   }
  },
  {
   "cell_type": "code",
   "execution_count": 16,
   "outputs": [
    {
     "data": {
      "text/plain": "   level_0  index  Year  Month  DayofMonth  DayOfWeek  DepTime  CRSDepTime  \\\n0        0      0  2008      1           3          4   2003.0        1955   \n1        1      1  2008      1           3          4    754.0         735   \n2        2      2  2008      1           3          4    628.0         620   \n3        3      4  2008      1           3          4   1829.0        1755   \n4        4      5  2008      1           3          4   1940.0        1915   \n\n   ArrTime  CRSArrTime  ... TaxiIn  TaxiOut Diverted  CarrierDelay  \\\n0   2211.0        2225  ...    4.0      8.0        0           NaN   \n1   1002.0        1000  ...    5.0     10.0        0           NaN   \n2    804.0         750  ...    3.0     17.0        0           NaN   \n3   1959.0        1925  ...    3.0     10.0        0           2.0   \n4   2121.0        2110  ...    4.0     10.0        0           NaN   \n\n   WeatherDelay  NASDelay  SecurityDelay  LateAircraftDelay   avg_speed  \\\n0           NaN       NaN            NaN                NaN  418.965517   \n1           NaN       NaN            NaN                NaN  430.088496   \n2           NaN       NaN            NaN                NaN  406.578947   \n3           0.0       0.0            0.0               32.0  401.298701   \n4           NaN       NaN            NaN                NaN  474.482759   \n\n  is_Late?  \n0    False  \n1     True  \n2     True  \n3     True  \n4     True  \n\n[5 rows x 31 columns]",
      "text/html": "<div>\n<style scoped>\n    .dataframe tbody tr th:only-of-type {\n        vertical-align: middle;\n    }\n\n    .dataframe tbody tr th {\n        vertical-align: top;\n    }\n\n    .dataframe thead th {\n        text-align: right;\n    }\n</style>\n<table border=\"1\" class=\"dataframe\">\n  <thead>\n    <tr style=\"text-align: right;\">\n      <th></th>\n      <th>level_0</th>\n      <th>index</th>\n      <th>Year</th>\n      <th>Month</th>\n      <th>DayofMonth</th>\n      <th>DayOfWeek</th>\n      <th>DepTime</th>\n      <th>CRSDepTime</th>\n      <th>ArrTime</th>\n      <th>CRSArrTime</th>\n      <th>...</th>\n      <th>TaxiIn</th>\n      <th>TaxiOut</th>\n      <th>Diverted</th>\n      <th>CarrierDelay</th>\n      <th>WeatherDelay</th>\n      <th>NASDelay</th>\n      <th>SecurityDelay</th>\n      <th>LateAircraftDelay</th>\n      <th>avg_speed</th>\n      <th>is_Late?</th>\n    </tr>\n  </thead>\n  <tbody>\n    <tr>\n      <th>0</th>\n      <td>0</td>\n      <td>0</td>\n      <td>2008</td>\n      <td>1</td>\n      <td>3</td>\n      <td>4</td>\n      <td>2003.0</td>\n      <td>1955</td>\n      <td>2211.0</td>\n      <td>2225</td>\n      <td>...</td>\n      <td>4.0</td>\n      <td>8.0</td>\n      <td>0</td>\n      <td>NaN</td>\n      <td>NaN</td>\n      <td>NaN</td>\n      <td>NaN</td>\n      <td>NaN</td>\n      <td>418.965517</td>\n      <td>False</td>\n    </tr>\n    <tr>\n      <th>1</th>\n      <td>1</td>\n      <td>1</td>\n      <td>2008</td>\n      <td>1</td>\n      <td>3</td>\n      <td>4</td>\n      <td>754.0</td>\n      <td>735</td>\n      <td>1002.0</td>\n      <td>1000</td>\n      <td>...</td>\n      <td>5.0</td>\n      <td>10.0</td>\n      <td>0</td>\n      <td>NaN</td>\n      <td>NaN</td>\n      <td>NaN</td>\n      <td>NaN</td>\n      <td>NaN</td>\n      <td>430.088496</td>\n      <td>True</td>\n    </tr>\n    <tr>\n      <th>2</th>\n      <td>2</td>\n      <td>2</td>\n      <td>2008</td>\n      <td>1</td>\n      <td>3</td>\n      <td>4</td>\n      <td>628.0</td>\n      <td>620</td>\n      <td>804.0</td>\n      <td>750</td>\n      <td>...</td>\n      <td>3.0</td>\n      <td>17.0</td>\n      <td>0</td>\n      <td>NaN</td>\n      <td>NaN</td>\n      <td>NaN</td>\n      <td>NaN</td>\n      <td>NaN</td>\n      <td>406.578947</td>\n      <td>True</td>\n    </tr>\n    <tr>\n      <th>3</th>\n      <td>3</td>\n      <td>4</td>\n      <td>2008</td>\n      <td>1</td>\n      <td>3</td>\n      <td>4</td>\n      <td>1829.0</td>\n      <td>1755</td>\n      <td>1959.0</td>\n      <td>1925</td>\n      <td>...</td>\n      <td>3.0</td>\n      <td>10.0</td>\n      <td>0</td>\n      <td>2.0</td>\n      <td>0.0</td>\n      <td>0.0</td>\n      <td>0.0</td>\n      <td>32.0</td>\n      <td>401.298701</td>\n      <td>True</td>\n    </tr>\n    <tr>\n      <th>4</th>\n      <td>4</td>\n      <td>5</td>\n      <td>2008</td>\n      <td>1</td>\n      <td>3</td>\n      <td>4</td>\n      <td>1940.0</td>\n      <td>1915</td>\n      <td>2121.0</td>\n      <td>2110</td>\n      <td>...</td>\n      <td>4.0</td>\n      <td>10.0</td>\n      <td>0</td>\n      <td>NaN</td>\n      <td>NaN</td>\n      <td>NaN</td>\n      <td>NaN</td>\n      <td>NaN</td>\n      <td>474.482759</td>\n      <td>True</td>\n    </tr>\n  </tbody>\n</table>\n<p>5 rows × 31 columns</p>\n</div>"
     },
     "execution_count": 16,
     "metadata": {},
     "output_type": "execute_result"
    }
   ],
   "source": [
    "# Whether late or not\n",
    "df['is_Late?'] = (df[\"ArrTime\"] - df[\"CRSArrTime\"]).apply(lambda x: 'True' if x>0 else 'False')\n",
    "\n",
    "df.head()"
   ],
   "metadata": {
    "collapsed": false,
    "pycharm": {
     "name": "#%%\n"
    }
   }
  },
  {
   "cell_type": "code",
   "execution_count": 20,
   "outputs": [
    {
     "data": {
      "text/plain": "UniqueCarrier\nAQ       30290.0\nHA      488746.0\nF9     1509504.0\nAS     2760146.0\n9E     4775792.0\nOH     5291761.0\nB6     6028917.0\nFL     6088585.0\nNW     6813848.0\nUS     7059980.0\nYV     7283571.0\nEV     7660058.0\nCO     8012087.0\nDL     8930344.0\nXE    10217800.0\nOO    11731664.0\nMQ    12581871.0\nUA    13365381.0\nAA    17579324.0\nWN    22009943.0\nName: Total_delay, dtype: float64"
     },
     "execution_count": 20,
     "metadata": {},
     "output_type": "execute_result"
    }
   ],
   "source": [
    "# Table of airlines with the most accumulated delays\n",
    "\n",
    "# In order to sort airlines by total delays first each delay has to be summed up. In order to do that\n",
    "# the NaNs have to be imputed with 0s (which is the value that has to go there). Then summation and\n",
    "# grouping by carriers.\n",
    "df.fillna(value=0,inplace=True)\n",
    "df[\"Total_delay\"] = df[\"ArrDelay\"] + df[\"CarrierDelay\"] + df[\"WeatherDelay\"] + df[\"NASDelay\"] + df[\"LateAircraftDelay\"]\n",
    "\n",
    "df.groupby(df[\"UniqueCarrier\"]).Total_delay.sum().sort_values()"
   ],
   "metadata": {
    "collapsed": false,
    "pycharm": {
     "name": "#%%\n"
    }
   }
  },
  {
   "cell_type": "code",
   "execution_count": null,
   "outputs": [],
   "source": [],
   "metadata": {
    "collapsed": false,
    "pycharm": {
     "name": "#%%\n"
    }
   }
  },
  {
   "cell_type": "code",
   "execution_count": 24,
   "outputs": [
    {
     "data": {
      "text/plain": "1091.0"
     },
     "execution_count": 24,
     "metadata": {},
     "output_type": "execute_result"
    }
   ],
   "source": [
    "df[\"AirTime\"].max()\n"
   ],
   "metadata": {
    "collapsed": false,
    "pycharm": {
     "name": "#%%\n"
    }
   }
  },
  {
   "cell_type": "code",
   "execution_count": 23,
   "outputs": [
    {
     "data": {
      "text/plain": "         level_0    index  Year  Month  DayofMonth  DayOfWeek  DepTime  \\\n1488690  1488690  5180146  2008      9           9          2   1411.0   \n\n         CRSDepTime  ArrTime  CRSArrTime  ... TaxiOut  Diverted CarrierDelay  \\\n1488690         920    545.0        1215  ...    18.0         0       1040.0   \n\n         WeatherDelay  NASDelay  SecurityDelay  LateAircraftDelay   avg_speed  \\\n1488690           0.0       0.0            0.0               10.0  147.222731   \n\n        is_Late? Total_delay  \n1488690    False      2100.0  \n\n[1 rows x 32 columns]",
      "text/html": "<div>\n<style scoped>\n    .dataframe tbody tr th:only-of-type {\n        vertical-align: middle;\n    }\n\n    .dataframe tbody tr th {\n        vertical-align: top;\n    }\n\n    .dataframe thead th {\n        text-align: right;\n    }\n</style>\n<table border=\"1\" class=\"dataframe\">\n  <thead>\n    <tr style=\"text-align: right;\">\n      <th></th>\n      <th>level_0</th>\n      <th>index</th>\n      <th>Year</th>\n      <th>Month</th>\n      <th>DayofMonth</th>\n      <th>DayOfWeek</th>\n      <th>DepTime</th>\n      <th>CRSDepTime</th>\n      <th>ArrTime</th>\n      <th>CRSArrTime</th>\n      <th>...</th>\n      <th>TaxiOut</th>\n      <th>Diverted</th>\n      <th>CarrierDelay</th>\n      <th>WeatherDelay</th>\n      <th>NASDelay</th>\n      <th>SecurityDelay</th>\n      <th>LateAircraftDelay</th>\n      <th>avg_speed</th>\n      <th>is_Late?</th>\n      <th>Total_delay</th>\n    </tr>\n  </thead>\n  <tbody>\n    <tr>\n      <th>1488690</th>\n      <td>1488690</td>\n      <td>5180146</td>\n      <td>2008</td>\n      <td>9</td>\n      <td>9</td>\n      <td>2</td>\n      <td>1411.0</td>\n      <td>920</td>\n      <td>545.0</td>\n      <td>1215</td>\n      <td>...</td>\n      <td>18.0</td>\n      <td>0</td>\n      <td>1040.0</td>\n      <td>0.0</td>\n      <td>0.0</td>\n      <td>0.0</td>\n      <td>10.0</td>\n      <td>147.222731</td>\n      <td>False</td>\n      <td>2100.0</td>\n    </tr>\n  </tbody>\n</table>\n<p>1 rows × 32 columns</p>\n</div>"
     },
     "execution_count": 23,
     "metadata": {},
     "output_type": "execute_result"
    }
   ],
   "source": [
    "# What are the longest flights?\n",
    "df[df['AirTime'] == df[\"AirTime\"].max()]"
   ],
   "metadata": {
    "collapsed": false,
    "pycharm": {
     "name": "#%%\n"
    }
   }
  },
  {
   "cell_type": "code",
   "source": [
    "# And the most backward?\n",
    "df[df['AirTime'] == df[\"AirTime\"].min()]"
   ],
   "metadata": {
    "collapsed": false,
    "pycharm": {
     "name": "#%%\n"
    }
   },
   "execution_count": 25,
   "outputs": [
    {
     "data": {
      "text/plain": "         level_0    index  Year  Month  DayofMonth  DayOfWeek  DepTime  \\\n1280        1280     1763  2008      1           3          4    922.0   \n1372        1372     1911  2008      1           3          4   2325.0   \n1776        1776     2651  2008      1           4          5   1949.0   \n1831        1831     2726  2008      1           4          5    737.0   \n2244        2244     3672  2008      1           4          5   1849.0   \n...          ...      ...   ...    ...         ...        ...      ...   \n1935651  1935651  7006289  2008     12          10          3   1459.0   \n1935716  1935716  7006401  2008     12          11          4   1355.0   \n1935876  1935876  7006809  2008     12          11          4   1026.0   \n1935978  1935978  7007034  2008     12          11          4   1527.0   \n1936470  1936470  7008584  2008     12          12          5    703.0   \n\n         CRSDepTime  ArrTime  CRSArrTime  ... TaxiOut  Diverted CarrierDelay  \\\n1280            915      0.0        1050  ...    12.0         1          0.0   \n1372           1900      0.0        2030  ...    11.0         1          0.0   \n1776           1905      0.0        1910  ...    11.0         1          0.0   \n1831            705      0.0         825  ...    13.0         1          0.0   \n2244           1630      0.0        1755  ...    12.0         1          0.0   \n...             ...      ...         ...  ...     ...       ...          ...   \n1935651        1447      0.0        1650  ...    37.0         0          0.0   \n1935716        1106      7.0        1950  ...    17.0         1          0.0   \n1935876         955      0.0        1219  ...     0.0         0          0.0   \n1935978        1520   2106.0        1708  ...    19.0         1          0.0   \n1936470         630      0.0         734  ...    33.0         0          0.0   \n\n         WeatherDelay  NASDelay  SecurityDelay  LateAircraftDelay  avg_speed  \\\n1280              0.0       0.0            0.0                0.0        0.0   \n1372              0.0       0.0            0.0                0.0        0.0   \n1776              0.0       0.0            0.0                0.0        0.0   \n1831              0.0       0.0            0.0                0.0        0.0   \n2244              0.0       0.0            0.0                0.0        0.0   \n...               ...       ...            ...                ...        ...   \n1935651           0.0       0.0            0.0                0.0        0.0   \n1935716           0.0       0.0            0.0                0.0        0.0   \n1935876           0.0       0.0            0.0                0.0        0.0   \n1935978           0.0       0.0            0.0                0.0        0.0   \n1936470           0.0       0.0            0.0                0.0        0.0   \n\n        is_Late? Total_delay  \n1280       False         0.0  \n1372       False         0.0  \n1776       False         0.0  \n1831       False         0.0  \n2244       False         0.0  \n...          ...         ...  \n1935651    False         0.0  \n1935716    False         0.0  \n1935876    False         0.0  \n1935978     True         0.0  \n1936470    False         0.0  \n\n[8394 rows x 32 columns]",
      "text/html": "<div>\n<style scoped>\n    .dataframe tbody tr th:only-of-type {\n        vertical-align: middle;\n    }\n\n    .dataframe tbody tr th {\n        vertical-align: top;\n    }\n\n    .dataframe thead th {\n        text-align: right;\n    }\n</style>\n<table border=\"1\" class=\"dataframe\">\n  <thead>\n    <tr style=\"text-align: right;\">\n      <th></th>\n      <th>level_0</th>\n      <th>index</th>\n      <th>Year</th>\n      <th>Month</th>\n      <th>DayofMonth</th>\n      <th>DayOfWeek</th>\n      <th>DepTime</th>\n      <th>CRSDepTime</th>\n      <th>ArrTime</th>\n      <th>CRSArrTime</th>\n      <th>...</th>\n      <th>TaxiOut</th>\n      <th>Diverted</th>\n      <th>CarrierDelay</th>\n      <th>WeatherDelay</th>\n      <th>NASDelay</th>\n      <th>SecurityDelay</th>\n      <th>LateAircraftDelay</th>\n      <th>avg_speed</th>\n      <th>is_Late?</th>\n      <th>Total_delay</th>\n    </tr>\n  </thead>\n  <tbody>\n    <tr>\n      <th>1280</th>\n      <td>1280</td>\n      <td>1763</td>\n      <td>2008</td>\n      <td>1</td>\n      <td>3</td>\n      <td>4</td>\n      <td>922.0</td>\n      <td>915</td>\n      <td>0.0</td>\n      <td>1050</td>\n      <td>...</td>\n      <td>12.0</td>\n      <td>1</td>\n      <td>0.0</td>\n      <td>0.0</td>\n      <td>0.0</td>\n      <td>0.0</td>\n      <td>0.0</td>\n      <td>0.0</td>\n      <td>False</td>\n      <td>0.0</td>\n    </tr>\n    <tr>\n      <th>1372</th>\n      <td>1372</td>\n      <td>1911</td>\n      <td>2008</td>\n      <td>1</td>\n      <td>3</td>\n      <td>4</td>\n      <td>2325.0</td>\n      <td>1900</td>\n      <td>0.0</td>\n      <td>2030</td>\n      <td>...</td>\n      <td>11.0</td>\n      <td>1</td>\n      <td>0.0</td>\n      <td>0.0</td>\n      <td>0.0</td>\n      <td>0.0</td>\n      <td>0.0</td>\n      <td>0.0</td>\n      <td>False</td>\n      <td>0.0</td>\n    </tr>\n    <tr>\n      <th>1776</th>\n      <td>1776</td>\n      <td>2651</td>\n      <td>2008</td>\n      <td>1</td>\n      <td>4</td>\n      <td>5</td>\n      <td>1949.0</td>\n      <td>1905</td>\n      <td>0.0</td>\n      <td>1910</td>\n      <td>...</td>\n      <td>11.0</td>\n      <td>1</td>\n      <td>0.0</td>\n      <td>0.0</td>\n      <td>0.0</td>\n      <td>0.0</td>\n      <td>0.0</td>\n      <td>0.0</td>\n      <td>False</td>\n      <td>0.0</td>\n    </tr>\n    <tr>\n      <th>1831</th>\n      <td>1831</td>\n      <td>2726</td>\n      <td>2008</td>\n      <td>1</td>\n      <td>4</td>\n      <td>5</td>\n      <td>737.0</td>\n      <td>705</td>\n      <td>0.0</td>\n      <td>825</td>\n      <td>...</td>\n      <td>13.0</td>\n      <td>1</td>\n      <td>0.0</td>\n      <td>0.0</td>\n      <td>0.0</td>\n      <td>0.0</td>\n      <td>0.0</td>\n      <td>0.0</td>\n      <td>False</td>\n      <td>0.0</td>\n    </tr>\n    <tr>\n      <th>2244</th>\n      <td>2244</td>\n      <td>3672</td>\n      <td>2008</td>\n      <td>1</td>\n      <td>4</td>\n      <td>5</td>\n      <td>1849.0</td>\n      <td>1630</td>\n      <td>0.0</td>\n      <td>1755</td>\n      <td>...</td>\n      <td>12.0</td>\n      <td>1</td>\n      <td>0.0</td>\n      <td>0.0</td>\n      <td>0.0</td>\n      <td>0.0</td>\n      <td>0.0</td>\n      <td>0.0</td>\n      <td>False</td>\n      <td>0.0</td>\n    </tr>\n    <tr>\n      <th>...</th>\n      <td>...</td>\n      <td>...</td>\n      <td>...</td>\n      <td>...</td>\n      <td>...</td>\n      <td>...</td>\n      <td>...</td>\n      <td>...</td>\n      <td>...</td>\n      <td>...</td>\n      <td>...</td>\n      <td>...</td>\n      <td>...</td>\n      <td>...</td>\n      <td>...</td>\n      <td>...</td>\n      <td>...</td>\n      <td>...</td>\n      <td>...</td>\n      <td>...</td>\n      <td>...</td>\n    </tr>\n    <tr>\n      <th>1935651</th>\n      <td>1935651</td>\n      <td>7006289</td>\n      <td>2008</td>\n      <td>12</td>\n      <td>10</td>\n      <td>3</td>\n      <td>1459.0</td>\n      <td>1447</td>\n      <td>0.0</td>\n      <td>1650</td>\n      <td>...</td>\n      <td>37.0</td>\n      <td>0</td>\n      <td>0.0</td>\n      <td>0.0</td>\n      <td>0.0</td>\n      <td>0.0</td>\n      <td>0.0</td>\n      <td>0.0</td>\n      <td>False</td>\n      <td>0.0</td>\n    </tr>\n    <tr>\n      <th>1935716</th>\n      <td>1935716</td>\n      <td>7006401</td>\n      <td>2008</td>\n      <td>12</td>\n      <td>11</td>\n      <td>4</td>\n      <td>1355.0</td>\n      <td>1106</td>\n      <td>7.0</td>\n      <td>1950</td>\n      <td>...</td>\n      <td>17.0</td>\n      <td>1</td>\n      <td>0.0</td>\n      <td>0.0</td>\n      <td>0.0</td>\n      <td>0.0</td>\n      <td>0.0</td>\n      <td>0.0</td>\n      <td>False</td>\n      <td>0.0</td>\n    </tr>\n    <tr>\n      <th>1935876</th>\n      <td>1935876</td>\n      <td>7006809</td>\n      <td>2008</td>\n      <td>12</td>\n      <td>11</td>\n      <td>4</td>\n      <td>1026.0</td>\n      <td>955</td>\n      <td>0.0</td>\n      <td>1219</td>\n      <td>...</td>\n      <td>0.0</td>\n      <td>0</td>\n      <td>0.0</td>\n      <td>0.0</td>\n      <td>0.0</td>\n      <td>0.0</td>\n      <td>0.0</td>\n      <td>0.0</td>\n      <td>False</td>\n      <td>0.0</td>\n    </tr>\n    <tr>\n      <th>1935978</th>\n      <td>1935978</td>\n      <td>7007034</td>\n      <td>2008</td>\n      <td>12</td>\n      <td>11</td>\n      <td>4</td>\n      <td>1527.0</td>\n      <td>1520</td>\n      <td>2106.0</td>\n      <td>1708</td>\n      <td>...</td>\n      <td>19.0</td>\n      <td>1</td>\n      <td>0.0</td>\n      <td>0.0</td>\n      <td>0.0</td>\n      <td>0.0</td>\n      <td>0.0</td>\n      <td>0.0</td>\n      <td>True</td>\n      <td>0.0</td>\n    </tr>\n    <tr>\n      <th>1936470</th>\n      <td>1936470</td>\n      <td>7008584</td>\n      <td>2008</td>\n      <td>12</td>\n      <td>12</td>\n      <td>5</td>\n      <td>703.0</td>\n      <td>630</td>\n      <td>0.0</td>\n      <td>734</td>\n      <td>...</td>\n      <td>33.0</td>\n      <td>0</td>\n      <td>0.0</td>\n      <td>0.0</td>\n      <td>0.0</td>\n      <td>0.0</td>\n      <td>0.0</td>\n      <td>0.0</td>\n      <td>False</td>\n      <td>0.0</td>\n    </tr>\n  </tbody>\n</table>\n<p>8394 rows × 32 columns</p>\n</div>"
     },
     "execution_count": 25,
     "metadata": {},
     "output_type": "execute_result"
    }
   ]
  },
  {
   "cell_type": "code",
   "execution_count": 26,
   "outputs": [
    {
     "data": {
      "text/plain": "inf"
     },
     "execution_count": 26,
     "metadata": {},
     "output_type": "execute_result"
    }
   ],
   "source": [
    "df[\"avg_speed\"].max()"
   ],
   "metadata": {
    "collapsed": false,
    "pycharm": {
     "name": "#%%\n"
    }
   }
  },
  {
   "cell_type": "code",
   "execution_count": null,
   "outputs": [],
   "source": [],
   "metadata": {
    "collapsed": false,
    "pycharm": {
     "name": "#%%\n"
    }
   }
  }
 ],
 "metadata": {
  "kernelspec": {
   "display_name": "Python 3",
   "language": "python",
   "name": "python3"
  },
  "language_info": {
   "codemirror_mode": {
    "name": "ipython",
    "version": 2
   },
   "file_extension": ".py",
   "mimetype": "text/x-python",
   "name": "python",
   "nbconvert_exporter": "python",
   "pygments_lexer": "ipython2",
   "version": "2.7.6"
  }
 },
 "nbformat": 4,
 "nbformat_minor": 0
}